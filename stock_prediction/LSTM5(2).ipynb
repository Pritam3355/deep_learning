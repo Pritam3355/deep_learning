{
  "nbformat": 4,
  "nbformat_minor": 0,
  "metadata": {
    "colab": {
      "name": "LSTM5.ipynb",
      "provenance": [],
      "collapsed_sections": []
    },
    "kernelspec": {
      "name": "python3",
      "display_name": "Python 3"
    },
    "accelerator": "GPU"
  },
  "cells": [
    {
      "cell_type": "markdown",
      "metadata": {
        "id": "V0uFYtkkN2yN"
      },
      "source": [
        "**#using an artificial recurrent neural network called long short term memory (LSTM) to predict the close price of idea-vodafone using the past 60 days stock price.**"
      ]
    },
    {
      "cell_type": "code",
      "metadata": {
        "id": "GcLh20fttKxQ"
      },
      "source": [
        "import math\n",
        "import pandas_datareader as pdr\n",
        "import numpy as np\n",
        "import pandas as pd\n",
        "from sklearn.preprocessing import MinMaxScaler\n",
        "import matplotlib.pyplot as plt\n"
      ],
      "execution_count": 122,
      "outputs": []
    },
    {
      "cell_type": "code",
      "metadata": {
        "id": "T0mL-9CIu8wI",
        "outputId": "f7f88c51-e0a8-41ba-a6de-b42ecb4d54ce",
        "colab": {
          "base_uri": "https://localhost:8080/",
          "height": 238
        }
      },
      "source": [
        "#get the stock price\n",
        "df = pdr.DataReader(\"IDEA.NS\", data_source=\"yahoo\", start=\"2010-03-25\", end=\"2020-08-31\")\n",
        "df.head(5)"
      ],
      "execution_count": 123,
      "outputs": [
        {
          "output_type": "execute_result",
          "data": {
            "text/html": [
              "<div>\n",
              "<style scoped>\n",
              "    .dataframe tbody tr th:only-of-type {\n",
              "        vertical-align: middle;\n",
              "    }\n",
              "\n",
              "    .dataframe tbody tr th {\n",
              "        vertical-align: top;\n",
              "    }\n",
              "\n",
              "    .dataframe thead th {\n",
              "        text-align: right;\n",
              "    }\n",
              "</style>\n",
              "<table border=\"1\" class=\"dataframe\">\n",
              "  <thead>\n",
              "    <tr style=\"text-align: right;\">\n",
              "      <th></th>\n",
              "      <th>High</th>\n",
              "      <th>Low</th>\n",
              "      <th>Open</th>\n",
              "      <th>Close</th>\n",
              "      <th>Volume</th>\n",
              "      <th>Adj Close</th>\n",
              "    </tr>\n",
              "    <tr>\n",
              "      <th>Date</th>\n",
              "      <th></th>\n",
              "      <th></th>\n",
              "      <th></th>\n",
              "      <th></th>\n",
              "      <th></th>\n",
              "      <th></th>\n",
              "    </tr>\n",
              "  </thead>\n",
              "  <tbody>\n",
              "    <tr>\n",
              "      <th>2010-03-25</th>\n",
              "      <td>40.760700</td>\n",
              "      <td>39.102501</td>\n",
              "      <td>39.193001</td>\n",
              "      <td>40.127602</td>\n",
              "      <td>9830780.0</td>\n",
              "      <td>39.102074</td>\n",
              "    </tr>\n",
              "    <tr>\n",
              "      <th>2010-03-26</th>\n",
              "      <td>40.489399</td>\n",
              "      <td>39.856300</td>\n",
              "      <td>40.157700</td>\n",
              "      <td>40.217999</td>\n",
              "      <td>3616226.0</td>\n",
              "      <td>39.190155</td>\n",
              "    </tr>\n",
              "    <tr>\n",
              "      <th>2010-03-29</th>\n",
              "      <td>41.062199</td>\n",
              "      <td>39.886398</td>\n",
              "      <td>40.097401</td>\n",
              "      <td>40.459202</td>\n",
              "      <td>5626010.0</td>\n",
              "      <td>39.425198</td>\n",
              "    </tr>\n",
              "    <tr>\n",
              "      <th>2010-03-30</th>\n",
              "      <td>40.790901</td>\n",
              "      <td>39.705502</td>\n",
              "      <td>40.700401</td>\n",
              "      <td>40.157700</td>\n",
              "      <td>5431874.0</td>\n",
              "      <td>39.131401</td>\n",
              "    </tr>\n",
              "    <tr>\n",
              "      <th>2010-03-31</th>\n",
              "      <td>40.459202</td>\n",
              "      <td>39.283401</td>\n",
              "      <td>40.459202</td>\n",
              "      <td>39.494499</td>\n",
              "      <td>4386575.0</td>\n",
              "      <td>38.485149</td>\n",
              "    </tr>\n",
              "  </tbody>\n",
              "</table>\n",
              "</div>"
            ],
            "text/plain": [
              "                 High        Low       Open      Close     Volume  Adj Close\n",
              "Date                                                                        \n",
              "2010-03-25  40.760700  39.102501  39.193001  40.127602  9830780.0  39.102074\n",
              "2010-03-26  40.489399  39.856300  40.157700  40.217999  3616226.0  39.190155\n",
              "2010-03-29  41.062199  39.886398  40.097401  40.459202  5626010.0  39.425198\n",
              "2010-03-30  40.790901  39.705502  40.700401  40.157700  5431874.0  39.131401\n",
              "2010-03-31  40.459202  39.283401  40.459202  39.494499  4386575.0  38.485149"
            ]
          },
          "metadata": {
            "tags": []
          },
          "execution_count": 123
        }
      ]
    },
    {
      "cell_type": "code",
      "metadata": {
        "id": "hBKK6G7LyLyU",
        "outputId": "7a6db386-4ba1-47e7-814f-f665b9742ff9",
        "colab": {
          "base_uri": "https://localhost:8080/",
          "height": 515
        }
      },
      "source": [
        "#visualize the close price history\n",
        "plt.figure(figsize=(16,8))\n",
        "plt.title(\"Close Price History\")\n",
        "plt.plot(df['Close'])\n",
        "plt.xlabel('Date', fontsize =18)\n",
        "plt.ylabel('Close Price', fontsize = 18)\n",
        "plt.show()"
      ],
      "execution_count": 124,
      "outputs": [
        {
          "output_type": "display_data",
          "data": {
            "image/png": "[encoded data removed]",
            "text/plain": [
              "<Figure size 1152x576 with 1 Axes>"
            ]
          },
          "metadata": {
            "tags": [],
            "needs_background": "light"
          }
        }
      ]
    },
    {
      "cell_type": "code",
      "metadata": {
        "id": "76ioGwsT1vDG",
        "outputId": "d8e72610-8972-464c-94dd-0a4b50ecbf09",
        "colab": {
          "base_uri": "https://localhost:8080/",
          "height": 377
        }
      },
      "source": [
        "#create a new dataframe with only the 'Close' column\n",
        "data = df.filter(['Close'])\n",
        "print(data.tail(5))\n",
        "train_size = math.ceil(len(data)*0.7)\n",
        "print(train_size,len(data)-train_size)\n",
        "test_data = data.iloc[train_size:,:]\n",
        "test_data.tail(5)"
      ],
      "execution_count": 125,
      "outputs": [
        {
          "output_type": "stream",
          "text": [
            "            Close\n",
            "Date             \n",
            "2020-08-26   8.90\n",
            "2020-08-27   8.85\n",
            "2020-08-28  10.10\n",
            "2020-08-31  10.20\n",
            "2020-09-01   8.85\n",
            "1802 772\n"
          ],
          "name": "stdout"
        },
        {
          "output_type": "execute_result",
          "data": {
            "text/html": [
              "<div>\n",
              "<style scoped>\n",
              "    .dataframe tbody tr th:only-of-type {\n",
              "        vertical-align: middle;\n",
              "    }\n",
              "\n",
              "    .dataframe tbody tr th {\n",
              "        vertical-align: top;\n",
              "    }\n",
              "\n",
              "    .dataframe thead th {\n",
              "        text-align: right;\n",
              "    }\n",
              "</style>\n",
              "<table border=\"1\" class=\"dataframe\">\n",
              "  <thead>\n",
              "    <tr style=\"text-align: right;\">\n",
              "      <th></th>\n",
              "      <th>Close</th>\n",
              "    </tr>\n",
              "    <tr>\n",
              "      <th>Date</th>\n",
              "      <th></th>\n",
              "    </tr>\n",
              "  </thead>\n",
              "  <tbody>\n",
              "    <tr>\n",
              "      <th>2020-08-26</th>\n",
              "      <td>8.90</td>\n",
              "    </tr>\n",
              "    <tr>\n",
              "      <th>2020-08-27</th>\n",
              "      <td>8.85</td>\n",
              "    </tr>\n",
              "    <tr>\n",
              "      <th>2020-08-28</th>\n",
              "      <td>10.10</td>\n",
              "    </tr>\n",
              "    <tr>\n",
              "      <th>2020-08-31</th>\n",
              "      <td>10.20</td>\n",
              "    </tr>\n",
              "    <tr>\n",
              "      <th>2020-09-01</th>\n",
              "      <td>8.85</td>\n",
              "    </tr>\n",
              "  </tbody>\n",
              "</table>\n",
              "</div>"
            ],
            "text/plain": [
              "            Close\n",
              "Date             \n",
              "2020-08-26   8.90\n",
              "2020-08-27   8.85\n",
              "2020-08-28  10.10\n",
              "2020-08-31  10.20\n",
              "2020-09-01   8.85"
            ]
          },
          "metadata": {
            "tags": []
          },
          "execution_count": 125
        }
      ]
    },
    {
      "cell_type": "code",
      "metadata": {
        "id": "xIACZKvGwae8"
      },
      "source": [
        "#scale the data\n",
        "scaler = MinMaxScaler(feature_range=(0,1))\n",
        "scaled_data = scaler.fit_transform(np.array(data).reshape(-1,1))\n",
        "#scaled_data\n",
        "train_data = scaled_data[:train_size,:]\n",
        "test_data = scaled_data[train_size:,:]"
      ],
      "execution_count": 126,
      "outputs": []
    },
    {
      "cell_type": "code",
      "metadata": {
        "id": "lH4Lfm8Lw8qt"
      },
      "source": [
        "time_stamp = 60\n",
        "train_data = scaled_data[0:train_size, :]\n",
        "x_train = []\n",
        "y_train = []\n",
        "for i in range(time_stamp,len(train_data)):\n",
        "  x_train.append(train_data[i-time_stamp:i,0])\n",
        "  y_train.append(train_data[i,0])"
      ],
      "execution_count": 127,
      "outputs": []
    },
    {
      "cell_type": "code",
      "metadata": {
        "id": "GVcUabEj0ugR"
      },
      "source": [
        "#convert the x_train and y_train to numpy arrays\n",
        "x_train = np.array(x_train)\n",
        "y_train = np.array(y_train)"
      ],
      "execution_count": 128,
      "outputs": []
    },
    {
      "cell_type": "code",
      "metadata": {
        "id": "zXlwVnQ99uea",
        "outputId": "e67ba268-5b58-41f9-aa1f-91da5bb9e5c1",
        "colab": {
          "base_uri": "https://localhost:8080/"
        }
      },
      "source": [
        "#reshape the data\n",
        "x_train = np.reshape(x_train, (x_train.shape[0], x_train.shape[1], 1))\n",
        "x_train.shape"
      ],
      "execution_count": 129,
      "outputs": [
        {
          "output_type": "execute_result",
          "data": {
            "text/plain": [
              "(1742, 60, 1)"
            ]
          },
          "metadata": {
            "tags": []
          },
          "execution_count": 129
        }
      ]
    },
    {
      "cell_type": "code",
      "metadata": {
        "id": "DDxNdSwNnOh7"
      },
      "source": [
        "from keras.models import Sequential\n",
        "from keras.layers import Dense, LSTM\n",
        "from keras.layers import TimeDistributed"
      ],
      "execution_count": 130,
      "outputs": []
    },
    {
      "cell_type": "code",
      "metadata": {
        "id": "DkhS88aY0ujg"
      },
      "source": [
        "#build the LSTM model\n",
        "model = Sequential()\n",
        "model.add(LSTM(100, return_sequences=True, input_shape=(x_train.shape[1],1)))\n",
        "model.add(LSTM(100, return_sequences=False))\n",
        "model.add(Dense(75))\n",
        "model.add(Dense(25))\n",
        "model.add(Dense(1))"
      ],
      "execution_count": 131,
      "outputs": []
    },
    {
      "cell_type": "code",
      "metadata": {
        "id": "SYX0rNto0uqQ"
      },
      "source": [
        "#compile the model\n",
        "model.compile(optimizer='adam', loss='mean_squared_error',metrics=['accuracy'])"
      ],
      "execution_count": 132,
      "outputs": []
    },
    {
      "cell_type": "code",
      "metadata": {
        "id": "eQI4iE_l0unQ",
        "outputId": "b4a63934-8b3c-4be4-fe61-8eda298b0adc",
        "colab": {
          "base_uri": "https://localhost:8080/"
        }
      },
      "source": [
        "#train the model\n",
        "model.fit(x_train, y_train, batch_size=4, epochs=300,verbose=1,validation_split=0.25)"
      ],
      "execution_count": 133,
      "outputs": [
        {
          "output_type": "stream",
          "text": [
            "Epoch 1/300\n",
            "327/327 [==============================] - 4s 11ms/step - loss: 0.0036 - accuracy: 7.6570e-04 - val_loss: 8.7309e-04 - val_accuracy: 0.0000e+00\n",
            "Epoch 2/300\n",
            "327/327 [==============================] - 3s 9ms/step - loss: 0.0011 - accuracy: 7.6570e-04 - val_loss: 7.9931e-04 - val_accuracy: 0.0000e+00\n",
            "Epoch 3/300\n",
            "327/327 [==============================] - 3s 9ms/step - loss: 0.0012 - accuracy: 7.6570e-04 - val_loss: 7.4985e-04 - val_accuracy: 0.0000e+00\n",
            "Epoch 4/300\n",
            "327/327 [==============================] - 3s 9ms/step - loss: 7.4825e-04 - accuracy: 7.6570e-04 - val_loss: 0.0010 - val_accuracy: 0.0000e+00\n",
            "Epoch 5/300\n",
            "327/327 [==============================] - 3s 9ms/step - loss: 6.8780e-04 - accuracy: 7.6570e-04 - val_loss: 9.8547e-04 - val_accuracy: 0.0000e+00\n",
            "Epoch 6/300\n",
            "327/327 [==============================] - 3s 9ms/step - loss: 5.7999e-04 - accuracy: 7.6570e-04 - val_loss: 5.1759e-04 - val_accuracy: 0.0000e+00\n",
            "Epoch 7/300\n",
            "327/327 [==============================] - 3s 9ms/step - loss: 6.6098e-04 - accuracy: 7.6570e-04 - val_loss: 6.3872e-04 - val_accuracy: 0.0000e+00\n",
            "Epoch 8/300\n",
            "327/327 [==============================] - 3s 9ms/step - loss: 4.4563e-04 - accuracy: 7.6570e-04 - val_loss: 6.2644e-04 - val_accuracy: 0.0000e+00\n",
            "Epoch 9/300\n",
            "327/327 [==============================] - 3s 9ms/step - loss: 4.0545e-04 - accuracy: 7.6570e-04 - val_loss: 4.9956e-04 - val_accuracy: 0.0000e+00\n",
            "Epoch 10/300\n",
            "327/327 [==============================] - 3s 9ms/step - loss: 4.5289e-04 - accuracy: 7.6570e-04 - val_loss: 3.6242e-04 - val_accuracy: 0.0000e+00\n",
            "Epoch 11/300\n",
            "327/327 [==============================] - 3s 9ms/step - loss: 3.8597e-04 - accuracy: 7.6570e-04 - val_loss: 3.1544e-04 - val_accuracy: 0.0000e+00\n",
            "Epoch 12/300\n",
            "327/327 [==============================] - 3s 9ms/step - loss: 4.2083e-04 - accuracy: 7.6570e-04 - val_loss: 3.5432e-04 - val_accuracy: 0.0000e+00\n",
            "Epoch 13/300\n",
            "327/327 [==============================] - 3s 9ms/step - loss: 3.5971e-04 - accuracy: 7.6570e-04 - val_loss: 2.4648e-04 - val_accuracy: 0.0000e+00\n",
            "Epoch 14/300\n",
            "327/327 [==============================] - 3s 9ms/step - loss: 3.7215e-04 - accuracy: 7.6570e-04 - val_loss: 6.4382e-04 - val_accuracy: 0.0000e+00\n",
            "Epoch 15/300\n",
            "327/327 [==============================] - 3s 9ms/step - loss: 3.4788e-04 - accuracy: 7.6570e-04 - val_loss: 3.1170e-04 - val_accuracy: 0.0000e+00\n",
            "Epoch 16/300\n",
            "327/327 [==============================] - 3s 9ms/step - loss: 4.9419e-04 - accuracy: 7.6570e-04 - val_loss: 2.7409e-04 - val_accuracy: 0.0000e+00\n",
            "Epoch 17/300\n",
            "327/327 [==============================] - 3s 9ms/step - loss: 2.8735e-04 - accuracy: 7.6570e-04 - val_loss: 2.1505e-04 - val_accuracy: 0.0000e+00\n",
            "Epoch 18/300\n",
            "327/327 [==============================] - 3s 10ms/step - loss: 4.1491e-04 - accuracy: 7.6570e-04 - val_loss: 2.1539e-04 - val_accuracy: 0.0000e+00\n",
            "Epoch 19/300\n",
            "327/327 [==============================] - 3s 9ms/step - loss: 3.6915e-04 - accuracy: 7.6570e-04 - val_loss: 2.1267e-04 - val_accuracy: 0.0000e+00\n",
            "Epoch 20/300\n",
            "327/327 [==============================] - 3s 9ms/step - loss: 3.6152e-04 - accuracy: 7.6570e-04 - val_loss: 2.2052e-04 - val_accuracy: 0.0000e+00\n",
            "Epoch 21/300\n",
            "327/327 [==============================] - 3s 9ms/step - loss: 3.7627e-04 - accuracy: 7.6570e-04 - val_loss: 3.0001e-04 - val_accuracy: 0.0000e+00\n",
            "Epoch 22/300\n",
            "327/327 [==============================] - 3s 9ms/step - loss: 2.7716e-04 - accuracy: 7.6570e-04 - val_loss: 2.0836e-04 - val_accuracy: 0.0000e+00\n",
            "Epoch 23/300\n",
            "327/327 [==============================] - 3s 9ms/step - loss: 3.0333e-04 - accuracy: 7.6570e-04 - val_loss: 4.2782e-04 - val_accuracy: 0.0000e+00\n",
            "Epoch 24/300\n",
            "327/327 [==============================] - 3s 9ms/step - loss: 3.3915e-04 - accuracy: 7.6570e-04 - val_loss: 3.2966e-04 - val_accuracy: 0.0000e+00\n",
            "Epoch 25/300\n",
            "327/327 [==============================] - 3s 9ms/step - loss: 3.4401e-04 - accuracy: 7.6570e-04 - val_loss: 2.1020e-04 - val_accuracy: 0.0000e+00\n",
            "Epoch 26/300\n",
            "327/327 [==============================] - 3s 9ms/step - loss: 2.9216e-04 - accuracy: 7.6570e-04 - val_loss: 2.2071e-04 - val_accuracy: 0.0000e+00\n",
            "Epoch 27/300\n",
            "327/327 [==============================] - 3s 9ms/step - loss: 3.3712e-04 - accuracy: 7.6570e-04 - val_loss: 3.7267e-04 - val_accuracy: 0.0000e+00\n",
            "Epoch 28/300\n",
            "327/327 [==============================] - 3s 9ms/step - loss: 3.0129e-04 - accuracy: 7.6570e-04 - val_loss: 8.2079e-04 - val_accuracy: 0.0000e+00\n",
            "Epoch 29/300\n",
            "327/327 [==============================] - 3s 9ms/step - loss: 3.5753e-04 - accuracy: 7.6570e-04 - val_loss: 2.4458e-04 - val_accuracy: 0.0000e+00\n",
            "Epoch 30/300\n",
            "327/327 [==============================] - 3s 9ms/step - loss: 3.2629e-04 - accuracy: 7.6570e-04 - val_loss: 2.1448e-04 - val_accuracy: 0.0000e+00\n",
            "Epoch 31/300\n",
            "327/327 [==============================] - 3s 9ms/step - loss: 3.3031e-04 - accuracy: 7.6570e-04 - val_loss: 3.2806e-04 - val_accuracy: 0.0000e+00\n",
            "Epoch 32/300\n",
            "327/327 [==============================] - 3s 9ms/step - loss: 3.2637e-04 - accuracy: 7.6570e-04 - val_loss: 4.7680e-04 - val_accuracy: 0.0000e+00\n",
            "Epoch 33/300\n",
            "327/327 [==============================] - 3s 9ms/step - loss: 3.0255e-04 - accuracy: 7.6570e-04 - val_loss: 2.3116e-04 - val_accuracy: 0.0000e+00\n",
            "Epoch 34/300\n",
            "327/327 [==============================] - 3s 9ms/step - loss: 2.9263e-04 - accuracy: 7.6570e-04 - val_loss: 2.3525e-04 - val_accuracy: 0.0000e+00\n",
            "Epoch 35/300\n",
            "327/327 [==============================] - 3s 9ms/step - loss: 2.8874e-04 - accuracy: 7.6570e-04 - val_loss: 3.7733e-04 - val_accuracy: 0.0000e+00\n",
            "Epoch 36/300\n",
            "327/327 [==============================] - 3s 9ms/step - loss: 3.6572e-04 - accuracy: 7.6570e-04 - val_loss: 2.5069e-04 - val_accuracy: 0.0000e+00\n",
            "Epoch 37/300\n",
            "327/327 [==============================] - 3s 9ms/step - loss: 3.0257e-04 - accuracy: 7.6570e-04 - val_loss: 3.8055e-04 - val_accuracy: 0.0000e+00\n",
            "Epoch 38/300\n",
            "327/327 [==============================] - 3s 9ms/step - loss: 2.9863e-04 - accuracy: 7.6570e-04 - val_loss: 2.3223e-04 - val_accuracy: 0.0000e+00\n",
            "Epoch 39/300\n",
            "327/327 [==============================] - 3s 9ms/step - loss: 3.1687e-04 - accuracy: 7.6570e-04 - val_loss: 2.0500e-04 - val_accuracy: 0.0000e+00\n",
            "Epoch 40/300\n",
            "327/327 [==============================] - 3s 9ms/step - loss: 3.0655e-04 - accuracy: 7.6570e-04 - val_loss: 2.1734e-04 - val_accuracy: 0.0000e+00\n",
            "Epoch 41/300\n",
            "327/327 [==============================] - 3s 9ms/step - loss: 2.6981e-04 - accuracy: 7.6570e-04 - val_loss: 2.3354e-04 - val_accuracy: 0.0000e+00\n",
            "Epoch 42/300\n",
            "327/327 [==============================] - 3s 9ms/step - loss: 2.9335e-04 - accuracy: 7.6570e-04 - val_loss: 4.6353e-04 - val_accuracy: 0.0000e+00\n",
            "Epoch 43/300\n",
            "327/327 [==============================] - 3s 9ms/step - loss: 2.6542e-04 - accuracy: 7.6570e-04 - val_loss: 2.6475e-04 - val_accuracy: 0.0000e+00\n",
            "Epoch 44/300\n",
            "327/327 [==============================] - 3s 9ms/step - loss: 2.9563e-04 - accuracy: 7.6570e-04 - val_loss: 2.7137e-04 - val_accuracy: 0.0000e+00\n",
            "Epoch 45/300\n",
            "327/327 [==============================] - 3s 9ms/step - loss: 2.4630e-04 - accuracy: 7.6570e-04 - val_loss: 2.7272e-04 - val_accuracy: 0.0000e+00\n",
            "Epoch 46/300\n",
            "327/327 [==============================] - 3s 9ms/step - loss: 2.9863e-04 - accuracy: 7.6570e-04 - val_loss: 2.2936e-04 - val_accuracy: 0.0000e+00\n",
            "Epoch 47/300\n",
            "327/327 [==============================] - 3s 9ms/step - loss: 2.9121e-04 - accuracy: 7.6570e-04 - val_loss: 2.3245e-04 - val_accuracy: 0.0000e+00\n",
            "Epoch 48/300\n",
            "327/327 [==============================] - 3s 9ms/step - loss: 2.9976e-04 - accuracy: 7.6570e-04 - val_loss: 2.2460e-04 - val_accuracy: 0.0000e+00\n",
            "Epoch 49/300\n",
            "327/327 [==============================] - 3s 9ms/step - loss: 2.8273e-04 - accuracy: 7.6570e-04 - val_loss: 3.9193e-04 - val_accuracy: 0.0000e+00\n",
            "Epoch 50/300\n",
            "327/327 [==============================] - 3s 9ms/step - loss: 2.6322e-04 - accuracy: 7.6570e-04 - val_loss: 3.1363e-04 - val_accuracy: 0.0000e+00\n",
            "Epoch 51/300\n",
            "327/327 [==============================] - 3s 9ms/step - loss: 2.8646e-04 - accuracy: 7.6570e-04 - val_loss: 2.2820e-04 - val_accuracy: 0.0000e+00\n",
            "Epoch 52/300\n",
            "327/327 [==============================] - 3s 10ms/step - loss: 2.9779e-04 - accuracy: 7.6570e-04 - val_loss: 2.2937e-04 - val_accuracy: 0.0000e+00\n",
            "Epoch 53/300\n",
            "327/327 [==============================] - 3s 9ms/step - loss: 2.5062e-04 - accuracy: 7.6570e-04 - val_loss: 2.4114e-04 - val_accuracy: 0.0000e+00\n",
            "Epoch 54/300\n",
            "327/327 [==============================] - 3s 9ms/step - loss: 3.0497e-04 - accuracy: 7.6570e-04 - val_loss: 2.0806e-04 - val_accuracy: 0.0000e+00\n",
            "Epoch 55/300\n",
            "327/327 [==============================] - 3s 9ms/step - loss: 2.7984e-04 - accuracy: 7.6570e-04 - val_loss: 2.7831e-04 - val_accuracy: 0.0000e+00\n",
            "Epoch 56/300\n",
            "327/327 [==============================] - 3s 9ms/step - loss: 2.7807e-04 - accuracy: 7.6570e-04 - val_loss: 2.8166e-04 - val_accuracy: 0.0000e+00\n",
            "Epoch 57/300\n",
            "327/327 [==============================] - 3s 9ms/step - loss: 2.6828e-04 - accuracy: 7.6570e-04 - val_loss: 2.8615e-04 - val_accuracy: 0.0000e+00\n",
            "Epoch 58/300\n",
            "327/327 [==============================] - 3s 9ms/step - loss: 2.6641e-04 - accuracy: 7.6570e-04 - val_loss: 2.0651e-04 - val_accuracy: 0.0000e+00\n",
            "Epoch 59/300\n",
            "327/327 [==============================] - 3s 9ms/step - loss: 2.7971e-04 - accuracy: 7.6570e-04 - val_loss: 5.7805e-04 - val_accuracy: 0.0000e+00\n",
            "Epoch 60/300\n",
            "327/327 [==============================] - 3s 9ms/step - loss: 2.6293e-04 - accuracy: 7.6570e-04 - val_loss: 2.3400e-04 - val_accuracy: 0.0000e+00\n",
            "Epoch 61/300\n",
            "327/327 [==============================] - 3s 9ms/step - loss: 2.6220e-04 - accuracy: 7.6570e-04 - val_loss: 2.1126e-04 - val_accuracy: 0.0000e+00\n",
            "Epoch 62/300\n",
            "327/327 [==============================] - 3s 9ms/step - loss: 2.8094e-04 - accuracy: 7.6570e-04 - val_loss: 2.2997e-04 - val_accuracy: 0.0000e+00\n",
            "Epoch 63/300\n",
            "327/327 [==============================] - 3s 9ms/step - loss: 3.1040e-04 - accuracy: 7.6570e-04 - val_loss: 2.1636e-04 - val_accuracy: 0.0000e+00\n",
            "Epoch 64/300\n",
            "327/327 [==============================] - 3s 9ms/step - loss: 2.8831e-04 - accuracy: 7.6570e-04 - val_loss: 2.6247e-04 - val_accuracy: 0.0000e+00\n",
            "Epoch 65/300\n",
            "327/327 [==============================] - 3s 9ms/step - loss: 2.8033e-04 - accuracy: 7.6570e-04 - val_loss: 2.8222e-04 - val_accuracy: 0.0000e+00\n",
            "Epoch 66/300\n",
            "327/327 [==============================] - 3s 9ms/step - loss: 2.7744e-04 - accuracy: 7.6570e-04 - val_loss: 3.7285e-04 - val_accuracy: 0.0000e+00\n",
            "Epoch 67/300\n",
            "327/327 [==============================] - 3s 9ms/step - loss: 2.9776e-04 - accuracy: 7.6570e-04 - val_loss: 3.5184e-04 - val_accuracy: 0.0000e+00\n",
            "Epoch 68/300\n",
            "327/327 [==============================] - 3s 9ms/step - loss: 2.6508e-04 - accuracy: 7.6570e-04 - val_loss: 2.2524e-04 - val_accuracy: 0.0000e+00\n",
            "Epoch 69/300\n",
            "327/327 [==============================] - 3s 10ms/step - loss: 2.7653e-04 - accuracy: 7.6570e-04 - val_loss: 2.2291e-04 - val_accuracy: 0.0000e+00\n",
            "Epoch 70/300\n",
            "327/327 [==============================] - 3s 9ms/step - loss: 2.6889e-04 - accuracy: 7.6570e-04 - val_loss: 2.1816e-04 - val_accuracy: 0.0000e+00\n",
            "Epoch 71/300\n",
            "327/327 [==============================] - 3s 9ms/step - loss: 2.5636e-04 - accuracy: 7.6570e-04 - val_loss: 2.2196e-04 - val_accuracy: 0.0000e+00\n",
            "Epoch 72/300\n",
            "327/327 [==============================] - 3s 9ms/step - loss: 2.4587e-04 - accuracy: 7.6570e-04 - val_loss: 2.6462e-04 - val_accuracy: 0.0000e+00\n",
            "Epoch 73/300\n",
            "327/327 [==============================] - 3s 9ms/step - loss: 2.4878e-04 - accuracy: 7.6570e-04 - val_loss: 2.0215e-04 - val_accuracy: 0.0000e+00\n",
            "Epoch 74/300\n",
            "327/327 [==============================] - 3s 9ms/step - loss: 2.5878e-04 - accuracy: 7.6570e-04 - val_loss: 2.5908e-04 - val_accuracy: 0.0000e+00\n",
            "Epoch 75/300\n",
            "327/327 [==============================] - 3s 9ms/step - loss: 2.9284e-04 - accuracy: 7.6570e-04 - val_loss: 2.4460e-04 - val_accuracy: 0.0000e+00\n",
            "Epoch 76/300\n",
            "327/327 [==============================] - 3s 9ms/step - loss: 2.9885e-04 - accuracy: 7.6570e-04 - val_loss: 2.4583e-04 - val_accuracy: 0.0000e+00\n",
            "Epoch 77/300\n",
            "327/327 [==============================] - 3s 9ms/step - loss: 2.8149e-04 - accuracy: 7.6570e-04 - val_loss: 2.0796e-04 - val_accuracy: 0.0000e+00\n",
            "Epoch 78/300\n",
            "327/327 [==============================] - 3s 9ms/step - loss: 2.8457e-04 - accuracy: 7.6570e-04 - val_loss: 2.4263e-04 - val_accuracy: 0.0000e+00\n",
            "Epoch 79/300\n",
            "327/327 [==============================] - 3s 9ms/step - loss: 2.4925e-04 - accuracy: 7.6570e-04 - val_loss: 4.5073e-04 - val_accuracy: 0.0000e+00\n",
            "Epoch 80/300\n",
            "327/327 [==============================] - 3s 9ms/step - loss: 2.6262e-04 - accuracy: 7.6570e-04 - val_loss: 2.0848e-04 - val_accuracy: 0.0000e+00\n",
            "Epoch 81/300\n",
            "327/327 [==============================] - 3s 9ms/step - loss: 2.5478e-04 - accuracy: 7.6570e-04 - val_loss: 3.2891e-04 - val_accuracy: 0.0000e+00\n",
            "Epoch 82/300\n",
            "327/327 [==============================] - 3s 9ms/step - loss: 2.4105e-04 - accuracy: 7.6570e-04 - val_loss: 2.2889e-04 - val_accuracy: 0.0000e+00\n",
            "Epoch 83/300\n",
            "327/327 [==============================] - 3s 9ms/step - loss: 2.7692e-04 - accuracy: 7.6570e-04 - val_loss: 2.1991e-04 - val_accuracy: 0.0000e+00\n",
            "Epoch 84/300\n",
            "327/327 [==============================] - 3s 9ms/step - loss: 2.6409e-04 - accuracy: 7.6570e-04 - val_loss: 2.3862e-04 - val_accuracy: 0.0000e+00\n",
            "Epoch 85/300\n",
            "327/327 [==============================] - 3s 9ms/step - loss: 2.6368e-04 - accuracy: 7.6570e-04 - val_loss: 2.1722e-04 - val_accuracy: 0.0000e+00\n",
            "Epoch 86/300\n",
            "327/327 [==============================] - 3s 9ms/step - loss: 2.7918e-04 - accuracy: 7.6570e-04 - val_loss: 2.4965e-04 - val_accuracy: 0.0000e+00\n",
            "Epoch 87/300\n",
            "327/327 [==============================] - 3s 9ms/step - loss: 2.4683e-04 - accuracy: 7.6570e-04 - val_loss: 2.0200e-04 - val_accuracy: 0.0000e+00\n",
            "Epoch 88/300\n",
            "327/327 [==============================] - 3s 10ms/step - loss: 2.6982e-04 - accuracy: 7.6570e-04 - val_loss: 2.0895e-04 - val_accuracy: 0.0000e+00\n",
            "Epoch 89/300\n",
            "327/327 [==============================] - 3s 9ms/step - loss: 2.7731e-04 - accuracy: 7.6570e-04 - val_loss: 2.1364e-04 - val_accuracy: 0.0000e+00\n",
            "Epoch 90/300\n",
            "327/327 [==============================] - 3s 9ms/step - loss: 2.7209e-04 - accuracy: 7.6570e-04 - val_loss: 2.1134e-04 - val_accuracy: 0.0000e+00\n",
            "Epoch 91/300\n",
            "327/327 [==============================] - 3s 9ms/step - loss: 2.5782e-04 - accuracy: 7.6570e-04 - val_loss: 2.1993e-04 - val_accuracy: 0.0000e+00\n",
            "Epoch 92/300\n",
            "327/327 [==============================] - 3s 9ms/step - loss: 2.6956e-04 - accuracy: 7.6570e-04 - val_loss: 3.8948e-04 - val_accuracy: 0.0000e+00\n",
            "Epoch 93/300\n",
            "327/327 [==============================] - 3s 9ms/step - loss: 2.5473e-04 - accuracy: 7.6570e-04 - val_loss: 3.3297e-04 - val_accuracy: 0.0000e+00\n",
            "Epoch 94/300\n",
            "327/327 [==============================] - 3s 9ms/step - loss: 2.8150e-04 - accuracy: 7.6570e-04 - val_loss: 2.8024e-04 - val_accuracy: 0.0000e+00\n",
            "Epoch 95/300\n",
            "327/327 [==============================] - 3s 9ms/step - loss: 2.4457e-04 - accuracy: 7.6570e-04 - val_loss: 2.5457e-04 - val_accuracy: 0.0000e+00\n",
            "Epoch 96/300\n",
            "327/327 [==============================] - 3s 9ms/step - loss: 2.6598e-04 - accuracy: 7.6570e-04 - val_loss: 3.3177e-04 - val_accuracy: 0.0000e+00\n",
            "Epoch 97/300\n",
            "327/327 [==============================] - 3s 9ms/step - loss: 2.5220e-04 - accuracy: 7.6570e-04 - val_loss: 2.1133e-04 - val_accuracy: 0.0000e+00\n",
            "Epoch 98/300\n",
            "327/327 [==============================] - 3s 9ms/step - loss: 2.7273e-04 - accuracy: 7.6570e-04 - val_loss: 2.0244e-04 - val_accuracy: 0.0000e+00\n",
            "Epoch 99/300\n",
            "327/327 [==============================] - 3s 9ms/step - loss: 2.7697e-04 - accuracy: 7.6570e-04 - val_loss: 2.3171e-04 - val_accuracy: 0.0000e+00\n",
            "Epoch 100/300\n",
            "327/327 [==============================] - 3s 9ms/step - loss: 2.5250e-04 - accuracy: 7.6570e-04 - val_loss: 2.1645e-04 - val_accuracy: 0.0000e+00\n",
            "Epoch 101/300\n",
            "327/327 [==============================] - 3s 9ms/step - loss: 2.4329e-04 - accuracy: 7.6570e-04 - val_loss: 2.8402e-04 - val_accuracy: 0.0000e+00\n",
            "Epoch 102/300\n",
            "327/327 [==============================] - 3s 9ms/step - loss: 2.8445e-04 - accuracy: 7.6570e-04 - val_loss: 2.0977e-04 - val_accuracy: 0.0000e+00\n",
            "Epoch 103/300\n",
            "327/327 [==============================] - 3s 9ms/step - loss: 2.5627e-04 - accuracy: 7.6570e-04 - val_loss: 2.3367e-04 - val_accuracy: 0.0000e+00\n",
            "Epoch 104/300\n",
            "327/327 [==============================] - 3s 9ms/step - loss: 2.3990e-04 - accuracy: 7.6570e-04 - val_loss: 2.0199e-04 - val_accuracy: 0.0000e+00\n",
            "Epoch 105/300\n",
            "327/327 [==============================] - 3s 9ms/step - loss: 2.5622e-04 - accuracy: 7.6570e-04 - val_loss: 2.7080e-04 - val_accuracy: 0.0000e+00\n",
            "Epoch 106/300\n",
            "327/327 [==============================] - 3s 9ms/step - loss: 2.3975e-04 - accuracy: 7.6570e-04 - val_loss: 2.0995e-04 - val_accuracy: 0.0000e+00\n",
            "Epoch 107/300\n",
            "327/327 [==============================] - 3s 9ms/step - loss: 2.5326e-04 - accuracy: 7.6570e-04 - val_loss: 3.1602e-04 - val_accuracy: 0.0000e+00\n",
            "Epoch 108/300\n",
            "327/327 [==============================] - 3s 9ms/step - loss: 2.3407e-04 - accuracy: 7.6570e-04 - val_loss: 1.9885e-04 - val_accuracy: 0.0000e+00\n",
            "Epoch 109/300\n",
            "327/327 [==============================] - 3s 9ms/step - loss: 2.5265e-04 - accuracy: 7.6570e-04 - val_loss: 2.0960e-04 - val_accuracy: 0.0000e+00\n",
            "Epoch 110/300\n",
            "327/327 [==============================] - 3s 9ms/step - loss: 2.8854e-04 - accuracy: 7.6570e-04 - val_loss: 2.1524e-04 - val_accuracy: 0.0000e+00\n",
            "Epoch 111/300\n",
            "327/327 [==============================] - 3s 9ms/step - loss: 2.3862e-04 - accuracy: 7.6570e-04 - val_loss: 2.0089e-04 - val_accuracy: 0.0000e+00\n",
            "Epoch 112/300\n",
            "327/327 [==============================] - 3s 9ms/step - loss: 2.5548e-04 - accuracy: 7.6570e-04 - val_loss: 2.1157e-04 - val_accuracy: 0.0000e+00\n",
            "Epoch 113/300\n",
            "327/327 [==============================] - 3s 9ms/step - loss: 2.6583e-04 - accuracy: 7.6570e-04 - val_loss: 1.9999e-04 - val_accuracy: 0.0000e+00\n",
            "Epoch 114/300\n",
            "327/327 [==============================] - 3s 9ms/step - loss: 2.5871e-04 - accuracy: 7.6570e-04 - val_loss: 2.0220e-04 - val_accuracy: 0.0000e+00\n",
            "Epoch 115/300\n",
            "327/327 [==============================] - 3s 9ms/step - loss: 2.5098e-04 - accuracy: 7.6570e-04 - val_loss: 2.8973e-04 - val_accuracy: 0.0000e+00\n",
            "Epoch 116/300\n",
            "327/327 [==============================] - 3s 9ms/step - loss: 2.5634e-04 - accuracy: 7.6570e-04 - val_loss: 2.3822e-04 - val_accuracy: 0.0000e+00\n",
            "Epoch 117/300\n",
            "327/327 [==============================] - 3s 9ms/step - loss: 2.6648e-04 - accuracy: 7.6570e-04 - val_loss: 2.2091e-04 - val_accuracy: 0.0000e+00\n",
            "Epoch 118/300\n",
            "327/327 [==============================] - 3s 9ms/step - loss: 2.4146e-04 - accuracy: 7.6570e-04 - val_loss: 2.6145e-04 - val_accuracy: 0.0000e+00\n",
            "Epoch 119/300\n",
            "327/327 [==============================] - 3s 9ms/step - loss: 2.6713e-04 - accuracy: 7.6570e-04 - val_loss: 2.0425e-04 - val_accuracy: 0.0000e+00\n",
            "Epoch 120/300\n",
            "327/327 [==============================] - 3s 10ms/step - loss: 2.5060e-04 - accuracy: 7.6570e-04 - val_loss: 3.7789e-04 - val_accuracy: 0.0000e+00\n",
            "Epoch 121/300\n",
            "327/327 [==============================] - 3s 9ms/step - loss: 2.2291e-04 - accuracy: 7.6570e-04 - val_loss: 2.5369e-04 - val_accuracy: 0.0000e+00\n",
            "Epoch 122/300\n",
            "327/327 [==============================] - 3s 9ms/step - loss: 2.6550e-04 - accuracy: 7.6570e-04 - val_loss: 4.2717e-04 - val_accuracy: 0.0000e+00\n",
            "Epoch 123/300\n",
            "327/327 [==============================] - 3s 9ms/step - loss: 2.7173e-04 - accuracy: 7.6570e-04 - val_loss: 2.4346e-04 - val_accuracy: 0.0000e+00\n",
            "Epoch 124/300\n",
            "327/327 [==============================] - 3s 9ms/step - loss: 2.8685e-04 - accuracy: 7.6570e-04 - val_loss: 0.0013 - val_accuracy: 0.0000e+00\n",
            "Epoch 125/300\n",
            "327/327 [==============================] - 3s 9ms/step - loss: 2.4608e-04 - accuracy: 7.6570e-04 - val_loss: 3.6267e-04 - val_accuracy: 0.0000e+00\n",
            "Epoch 126/300\n",
            "327/327 [==============================] - 3s 9ms/step - loss: 2.6543e-04 - accuracy: 7.6570e-04 - val_loss: 3.5127e-04 - val_accuracy: 0.0000e+00\n",
            "Epoch 127/300\n",
            "327/327 [==============================] - 3s 9ms/step - loss: 2.5858e-04 - accuracy: 7.6570e-04 - val_loss: 1.9982e-04 - val_accuracy: 0.0000e+00\n",
            "Epoch 128/300\n",
            "327/327 [==============================] - 3s 9ms/step - loss: 2.4789e-04 - accuracy: 7.6570e-04 - val_loss: 2.0681e-04 - val_accuracy: 0.0000e+00\n",
            "Epoch 129/300\n",
            "327/327 [==============================] - 3s 9ms/step - loss: 2.3092e-04 - accuracy: 7.6570e-04 - val_loss: 2.5607e-04 - val_accuracy: 0.0000e+00\n",
            "Epoch 130/300\n",
            "327/327 [==============================] - 3s 9ms/step - loss: 2.4085e-04 - accuracy: 7.6570e-04 - val_loss: 2.1745e-04 - val_accuracy: 0.0000e+00\n",
            "Epoch 131/300\n",
            "327/327 [==============================] - 3s 9ms/step - loss: 2.5030e-04 - accuracy: 7.6570e-04 - val_loss: 2.0413e-04 - val_accuracy: 0.0000e+00\n",
            "Epoch 132/300\n",
            "327/327 [==============================] - 3s 9ms/step - loss: 2.4871e-04 - accuracy: 7.6570e-04 - val_loss: 2.1263e-04 - val_accuracy: 0.0000e+00\n",
            "Epoch 133/300\n",
            "327/327 [==============================] - 3s 9ms/step - loss: 2.6338e-04 - accuracy: 7.6570e-04 - val_loss: 2.1210e-04 - val_accuracy: 0.0000e+00\n",
            "Epoch 134/300\n",
            "327/327 [==============================] - 3s 9ms/step - loss: 2.6024e-04 - accuracy: 7.6570e-04 - val_loss: 2.8123e-04 - val_accuracy: 0.0000e+00\n",
            "Epoch 135/300\n",
            "327/327 [==============================] - 3s 9ms/step - loss: 2.7782e-04 - accuracy: 7.6570e-04 - val_loss: 2.1369e-04 - val_accuracy: 0.0000e+00\n",
            "Epoch 136/300\n",
            "327/327 [==============================] - 3s 9ms/step - loss: 2.3843e-04 - accuracy: 7.6570e-04 - val_loss: 3.1402e-04 - val_accuracy: 0.0000e+00\n",
            "Epoch 137/300\n",
            "327/327 [==============================] - 3s 9ms/step - loss: 2.7640e-04 - accuracy: 7.6570e-04 - val_loss: 4.0045e-04 - val_accuracy: 0.0000e+00\n",
            "Epoch 138/300\n",
            "327/327 [==============================] - 3s 10ms/step - loss: 2.7230e-04 - accuracy: 7.6570e-04 - val_loss: 1.9849e-04 - val_accuracy: 0.0000e+00\n",
            "Epoch 139/300\n",
            "327/327 [==============================] - 3s 9ms/step - loss: 2.4470e-04 - accuracy: 7.6570e-04 - val_loss: 3.0921e-04 - val_accuracy: 0.0000e+00\n",
            "Epoch 140/300\n",
            "327/327 [==============================] - 3s 9ms/step - loss: 2.5706e-04 - accuracy: 7.6570e-04 - val_loss: 2.3172e-04 - val_accuracy: 0.0000e+00\n",
            "Epoch 141/300\n",
            "327/327 [==============================] - 3s 9ms/step - loss: 2.2992e-04 - accuracy: 7.6570e-04 - val_loss: 2.2194e-04 - val_accuracy: 0.0000e+00\n",
            "Epoch 142/300\n",
            "327/327 [==============================] - 3s 9ms/step - loss: 2.5957e-04 - accuracy: 7.6570e-04 - val_loss: 2.0189e-04 - val_accuracy: 0.0000e+00\n",
            "Epoch 143/300\n",
            "327/327 [==============================] - 3s 9ms/step - loss: 2.5281e-04 - accuracy: 7.6570e-04 - val_loss: 2.1957e-04 - val_accuracy: 0.0000e+00\n",
            "Epoch 144/300\n",
            "327/327 [==============================] - 3s 9ms/step - loss: 2.5992e-04 - accuracy: 7.6570e-04 - val_loss: 2.0375e-04 - val_accuracy: 0.0000e+00\n",
            "Epoch 145/300\n",
            "327/327 [==============================] - 3s 9ms/step - loss: 2.7769e-04 - accuracy: 7.6570e-04 - val_loss: 2.4787e-04 - val_accuracy: 0.0000e+00\n",
            "Epoch 146/300\n",
            "327/327 [==============================] - 3s 9ms/step - loss: 2.3969e-04 - accuracy: 7.6570e-04 - val_loss: 2.2699e-04 - val_accuracy: 0.0000e+00\n",
            "Epoch 147/300\n",
            "327/327 [==============================] - 3s 9ms/step - loss: 2.5851e-04 - accuracy: 7.6570e-04 - val_loss: 2.1138e-04 - val_accuracy: 0.0000e+00\n",
            "Epoch 148/300\n",
            "327/327 [==============================] - 3s 9ms/step - loss: 2.7749e-04 - accuracy: 7.6570e-04 - val_loss: 3.4496e-04 - val_accuracy: 0.0000e+00\n",
            "Epoch 149/300\n",
            "327/327 [==============================] - 3s 9ms/step - loss: 2.8289e-04 - accuracy: 7.6570e-04 - val_loss: 2.2101e-04 - val_accuracy: 0.0000e+00\n",
            "Epoch 150/300\n",
            "327/327 [==============================] - 3s 9ms/step - loss: 2.6303e-04 - accuracy: 7.6570e-04 - val_loss: 2.7467e-04 - val_accuracy: 0.0000e+00\n",
            "Epoch 151/300\n",
            "327/327 [==============================] - 3s 9ms/step - loss: 2.5589e-04 - accuracy: 7.6570e-04 - val_loss: 2.8301e-04 - val_accuracy: 0.0000e+00\n",
            "Epoch 152/300\n",
            "327/327 [==============================] - 3s 9ms/step - loss: 2.5808e-04 - accuracy: 7.6570e-04 - val_loss: 6.0257e-04 - val_accuracy: 0.0000e+00\n",
            "Epoch 153/300\n",
            "327/327 [==============================] - 3s 9ms/step - loss: 2.7234e-04 - accuracy: 7.6570e-04 - val_loss: 2.1753e-04 - val_accuracy: 0.0000e+00\n",
            "Epoch 154/300\n",
            "327/327 [==============================] - 3s 10ms/step - loss: 2.5013e-04 - accuracy: 7.6570e-04 - val_loss: 2.0463e-04 - val_accuracy: 0.0000e+00\n",
            "Epoch 155/300\n",
            "327/327 [==============================] - 3s 9ms/step - loss: 2.2884e-04 - accuracy: 7.6570e-04 - val_loss: 4.3258e-04 - val_accuracy: 0.0000e+00\n",
            "Epoch 156/300\n",
            "327/327 [==============================] - 3s 9ms/step - loss: 2.4324e-04 - accuracy: 7.6570e-04 - val_loss: 2.1926e-04 - val_accuracy: 0.0000e+00\n",
            "Epoch 157/300\n",
            "327/327 [==============================] - 3s 10ms/step - loss: 2.3987e-04 - accuracy: 7.6570e-04 - val_loss: 1.9969e-04 - val_accuracy: 0.0000e+00\n",
            "Epoch 158/300\n",
            "327/327 [==============================] - 3s 9ms/step - loss: 2.4928e-04 - accuracy: 7.6570e-04 - val_loss: 2.0342e-04 - val_accuracy: 0.0000e+00\n",
            "Epoch 159/300\n",
            "327/327 [==============================] - 3s 9ms/step - loss: 2.4505e-04 - accuracy: 7.6570e-04 - val_loss: 2.5648e-04 - val_accuracy: 0.0000e+00\n",
            "Epoch 160/300\n",
            "327/327 [==============================] - 3s 9ms/step - loss: 2.6124e-04 - accuracy: 7.6570e-04 - val_loss: 2.4380e-04 - val_accuracy: 0.0000e+00\n",
            "Epoch 161/300\n",
            "327/327 [==============================] - 3s 9ms/step - loss: 2.4173e-04 - accuracy: 7.6570e-04 - val_loss: 2.8611e-04 - val_accuracy: 0.0000e+00\n",
            "Epoch 162/300\n",
            "327/327 [==============================] - 3s 8ms/step - loss: 2.3168e-04 - accuracy: 7.6570e-04 - val_loss: 2.6576e-04 - val_accuracy: 0.0000e+00\n",
            "Epoch 163/300\n",
            "327/327 [==============================] - 3s 9ms/step - loss: 2.4181e-04 - accuracy: 7.6570e-04 - val_loss: 2.0359e-04 - val_accuracy: 0.0000e+00\n",
            "Epoch 164/300\n",
            "327/327 [==============================] - 3s 9ms/step - loss: 2.4897e-04 - accuracy: 7.6570e-04 - val_loss: 2.8259e-04 - val_accuracy: 0.0000e+00\n",
            "Epoch 165/300\n",
            "327/327 [==============================] - 3s 9ms/step - loss: 2.4531e-04 - accuracy: 7.6570e-04 - val_loss: 2.4414e-04 - val_accuracy: 0.0000e+00\n",
            "Epoch 166/300\n",
            "327/327 [==============================] - 3s 8ms/step - loss: 2.6646e-04 - accuracy: 7.6570e-04 - val_loss: 2.1528e-04 - val_accuracy: 0.0000e+00\n",
            "Epoch 167/300\n",
            "327/327 [==============================] - 3s 9ms/step - loss: 2.4855e-04 - accuracy: 7.6570e-04 - val_loss: 2.2251e-04 - val_accuracy: 0.0000e+00\n",
            "Epoch 168/300\n",
            "327/327 [==============================] - 3s 9ms/step - loss: 2.3504e-04 - accuracy: 7.6570e-04 - val_loss: 2.1298e-04 - val_accuracy: 0.0000e+00\n",
            "Epoch 169/300\n",
            "327/327 [==============================] - 3s 9ms/step - loss: 2.5047e-04 - accuracy: 7.6570e-04 - val_loss: 2.1821e-04 - val_accuracy: 0.0000e+00\n",
            "Epoch 170/300\n",
            "327/327 [==============================] - 3s 9ms/step - loss: 2.3515e-04 - accuracy: 7.6570e-04 - val_loss: 3.7448e-04 - val_accuracy: 0.0000e+00\n",
            "Epoch 171/300\n",
            "327/327 [==============================] - 3s 9ms/step - loss: 2.3393e-04 - accuracy: 7.6570e-04 - val_loss: 2.0273e-04 - val_accuracy: 0.0000e+00\n",
            "Epoch 172/300\n",
            "327/327 [==============================] - 3s 9ms/step - loss: 2.4484e-04 - accuracy: 7.6570e-04 - val_loss: 2.1385e-04 - val_accuracy: 0.0000e+00\n",
            "Epoch 173/300\n",
            "327/327 [==============================] - 3s 8ms/step - loss: 2.4787e-04 - accuracy: 7.6570e-04 - val_loss: 2.0551e-04 - val_accuracy: 0.0000e+00\n",
            "Epoch 174/300\n",
            "327/327 [==============================] - 3s 9ms/step - loss: 2.4576e-04 - accuracy: 7.6570e-04 - val_loss: 2.0198e-04 - val_accuracy: 0.0000e+00\n",
            "Epoch 175/300\n",
            "327/327 [==============================] - 3s 9ms/step - loss: 2.4310e-04 - accuracy: 7.6570e-04 - val_loss: 2.7011e-04 - val_accuracy: 0.0000e+00\n",
            "Epoch 176/300\n",
            "327/327 [==============================] - 3s 9ms/step - loss: 2.3805e-04 - accuracy: 7.6570e-04 - val_loss: 2.1468e-04 - val_accuracy: 0.0000e+00\n",
            "Epoch 177/300\n",
            "327/327 [==============================] - 3s 9ms/step - loss: 2.7542e-04 - accuracy: 7.6570e-04 - val_loss: 2.3191e-04 - val_accuracy: 0.0000e+00\n",
            "Epoch 178/300\n",
            "327/327 [==============================] - 3s 9ms/step - loss: 2.5921e-04 - accuracy: 7.6570e-04 - val_loss: 2.0571e-04 - val_accuracy: 0.0000e+00\n",
            "Epoch 179/300\n",
            "327/327 [==============================] - 3s 9ms/step - loss: 2.2534e-04 - accuracy: 7.6570e-04 - val_loss: 2.6249e-04 - val_accuracy: 0.0000e+00\n",
            "Epoch 180/300\n",
            "327/327 [==============================] - 3s 9ms/step - loss: 2.4681e-04 - accuracy: 7.6570e-04 - val_loss: 3.0130e-04 - val_accuracy: 0.0000e+00\n",
            "Epoch 181/300\n",
            "327/327 [==============================] - 3s 9ms/step - loss: 2.3887e-04 - accuracy: 7.6570e-04 - val_loss: 2.1758e-04 - val_accuracy: 0.0000e+00\n",
            "Epoch 182/300\n",
            "327/327 [==============================] - 3s 9ms/step - loss: 2.5413e-04 - accuracy: 7.6570e-04 - val_loss: 3.7816e-04 - val_accuracy: 0.0000e+00\n",
            "Epoch 183/300\n",
            "327/327 [==============================] - 3s 8ms/step - loss: 2.4489e-04 - accuracy: 7.6570e-04 - val_loss: 2.9882e-04 - val_accuracy: 0.0000e+00\n",
            "Epoch 184/300\n",
            "327/327 [==============================] - 3s 9ms/step - loss: 2.4323e-04 - accuracy: 7.6570e-04 - val_loss: 2.4595e-04 - val_accuracy: 0.0000e+00\n",
            "Epoch 185/300\n",
            "327/327 [==============================] - 3s 9ms/step - loss: 2.6499e-04 - accuracy: 7.6570e-04 - val_loss: 1.9757e-04 - val_accuracy: 0.0000e+00\n",
            "Epoch 186/300\n",
            "327/327 [==============================] - 3s 9ms/step - loss: 2.3229e-04 - accuracy: 7.6570e-04 - val_loss: 2.5854e-04 - val_accuracy: 0.0000e+00\n",
            "Epoch 187/300\n",
            "327/327 [==============================] - 3s 9ms/step - loss: 2.7853e-04 - accuracy: 7.6570e-04 - val_loss: 2.0840e-04 - val_accuracy: 0.0000e+00\n",
            "Epoch 188/300\n",
            "327/327 [==============================] - 3s 9ms/step - loss: 2.4768e-04 - accuracy: 7.6570e-04 - val_loss: 2.9423e-04 - val_accuracy: 0.0000e+00\n",
            "Epoch 189/300\n",
            "327/327 [==============================] - 3s 8ms/step - loss: 2.3359e-04 - accuracy: 7.6570e-04 - val_loss: 2.0874e-04 - val_accuracy: 0.0000e+00\n",
            "Epoch 190/300\n",
            "327/327 [==============================] - 3s 9ms/step - loss: 2.5836e-04 - accuracy: 7.6570e-04 - val_loss: 4.8777e-04 - val_accuracy: 0.0000e+00\n",
            "Epoch 191/300\n",
            "327/327 [==============================] - 3s 9ms/step - loss: 2.5528e-04 - accuracy: 7.6570e-04 - val_loss: 2.1391e-04 - val_accuracy: 0.0000e+00\n",
            "Epoch 192/300\n",
            "327/327 [==============================] - 3s 9ms/step - loss: 2.4270e-04 - accuracy: 7.6570e-04 - val_loss: 2.6320e-04 - val_accuracy: 0.0000e+00\n",
            "Epoch 193/300\n",
            "327/327 [==============================] - 3s 9ms/step - loss: 2.2502e-04 - accuracy: 7.6570e-04 - val_loss: 2.0857e-04 - val_accuracy: 0.0000e+00\n",
            "Epoch 194/300\n",
            "327/327 [==============================] - 3s 9ms/step - loss: 2.4210e-04 - accuracy: 7.6570e-04 - val_loss: 4.3271e-04 - val_accuracy: 0.0000e+00\n",
            "Epoch 195/300\n",
            "327/327 [==============================] - 3s 9ms/step - loss: 2.3267e-04 - accuracy: 7.6570e-04 - val_loss: 2.0348e-04 - val_accuracy: 0.0000e+00\n",
            "Epoch 196/300\n",
            "327/327 [==============================] - 3s 9ms/step - loss: 2.4087e-04 - accuracy: 7.6570e-04 - val_loss: 2.3340e-04 - val_accuracy: 0.0000e+00\n",
            "Epoch 197/300\n",
            "327/327 [==============================] - 3s 9ms/step - loss: 2.4589e-04 - accuracy: 7.6570e-04 - val_loss: 2.8678e-04 - val_accuracy: 0.0000e+00\n",
            "Epoch 198/300\n",
            "327/327 [==============================] - 3s 9ms/step - loss: 2.2800e-04 - accuracy: 7.6570e-04 - val_loss: 2.0101e-04 - val_accuracy: 0.0000e+00\n",
            "Epoch 199/300\n",
            "327/327 [==============================] - 3s 9ms/step - loss: 2.3359e-04 - accuracy: 7.6570e-04 - val_loss: 2.2398e-04 - val_accuracy: 0.0000e+00\n",
            "Epoch 200/300\n",
            "327/327 [==============================] - 3s 9ms/step - loss: 2.6475e-04 - accuracy: 7.6570e-04 - val_loss: 2.0435e-04 - val_accuracy: 0.0000e+00\n",
            "Epoch 201/300\n",
            "327/327 [==============================] - 3s 9ms/step - loss: 2.3427e-04 - accuracy: 7.6570e-04 - val_loss: 2.1998e-04 - val_accuracy: 0.0000e+00\n",
            "Epoch 202/300\n",
            "327/327 [==============================] - 3s 9ms/step - loss: 2.5340e-04 - accuracy: 7.6570e-04 - val_loss: 2.1297e-04 - val_accuracy: 0.0000e+00\n",
            "Epoch 203/300\n",
            "327/327 [==============================] - 3s 9ms/step - loss: 2.2341e-04 - accuracy: 7.6570e-04 - val_loss: 2.0330e-04 - val_accuracy: 0.0000e+00\n",
            "Epoch 204/300\n",
            "327/327 [==============================] - 3s 9ms/step - loss: 2.6058e-04 - accuracy: 7.6570e-04 - val_loss: 2.7512e-04 - val_accuracy: 0.0000e+00\n",
            "Epoch 205/300\n",
            "327/327 [==============================] - 3s 9ms/step - loss: 2.5031e-04 - accuracy: 7.6570e-04 - val_loss: 3.1714e-04 - val_accuracy: 0.0000e+00\n",
            "Epoch 206/300\n",
            "327/327 [==============================] - 3s 9ms/step - loss: 2.3255e-04 - accuracy: 7.6570e-04 - val_loss: 2.0234e-04 - val_accuracy: 0.0000e+00\n",
            "Epoch 207/300\n",
            "327/327 [==============================] - 3s 9ms/step - loss: 2.3770e-04 - accuracy: 7.6570e-04 - val_loss: 2.1907e-04 - val_accuracy: 0.0000e+00\n",
            "Epoch 208/300\n",
            "327/327 [==============================] - 3s 9ms/step - loss: 2.4404e-04 - accuracy: 7.6570e-04 - val_loss: 6.0140e-04 - val_accuracy: 0.0000e+00\n",
            "Epoch 209/300\n",
            "327/327 [==============================] - 3s 9ms/step - loss: 2.5675e-04 - accuracy: 7.6570e-04 - val_loss: 2.5331e-04 - val_accuracy: 0.0000e+00\n",
            "Epoch 210/300\n",
            "327/327 [==============================] - 3s 9ms/step - loss: 2.4045e-04 - accuracy: 7.6570e-04 - val_loss: 3.1115e-04 - val_accuracy: 0.0000e+00\n",
            "Epoch 211/300\n",
            "327/327 [==============================] - 3s 9ms/step - loss: 2.5739e-04 - accuracy: 7.6570e-04 - val_loss: 2.6936e-04 - val_accuracy: 0.0000e+00\n",
            "Epoch 212/300\n",
            "327/327 [==============================] - 3s 9ms/step - loss: 2.8421e-04 - accuracy: 7.6570e-04 - val_loss: 2.7142e-04 - val_accuracy: 0.0000e+00\n",
            "Epoch 213/300\n",
            "327/327 [==============================] - 3s 9ms/step - loss: 2.3116e-04 - accuracy: 7.6570e-04 - val_loss: 2.4198e-04 - val_accuracy: 0.0000e+00\n",
            "Epoch 214/300\n",
            "327/327 [==============================] - 3s 10ms/step - loss: 2.3320e-04 - accuracy: 7.6570e-04 - val_loss: 2.6802e-04 - val_accuracy: 0.0000e+00\n",
            "Epoch 215/300\n",
            "327/327 [==============================] - 3s 9ms/step - loss: 2.3118e-04 - accuracy: 7.6570e-04 - val_loss: 2.0063e-04 - val_accuracy: 0.0000e+00\n",
            "Epoch 216/300\n",
            "327/327 [==============================] - 3s 9ms/step - loss: 2.4351e-04 - accuracy: 7.6570e-04 - val_loss: 2.7026e-04 - val_accuracy: 0.0000e+00\n",
            "Epoch 217/300\n",
            "327/327 [==============================] - 3s 9ms/step - loss: 2.2673e-04 - accuracy: 7.6570e-04 - val_loss: 2.3402e-04 - val_accuracy: 0.0000e+00\n",
            "Epoch 218/300\n",
            "327/327 [==============================] - 3s 9ms/step - loss: 2.4006e-04 - accuracy: 7.6570e-04 - val_loss: 2.1992e-04 - val_accuracy: 0.0000e+00\n",
            "Epoch 219/300\n",
            "327/327 [==============================] - 3s 9ms/step - loss: 2.5864e-04 - accuracy: 7.6570e-04 - val_loss: 2.3841e-04 - val_accuracy: 0.0000e+00\n",
            "Epoch 220/300\n",
            "327/327 [==============================] - 3s 9ms/step - loss: 2.3079e-04 - accuracy: 7.6570e-04 - val_loss: 2.1528e-04 - val_accuracy: 0.0000e+00\n",
            "Epoch 221/300\n",
            "327/327 [==============================] - 3s 9ms/step - loss: 2.3345e-04 - accuracy: 7.6570e-04 - val_loss: 2.1720e-04 - val_accuracy: 0.0000e+00\n",
            "Epoch 222/300\n",
            "327/327 [==============================] - 3s 9ms/step - loss: 2.4001e-04 - accuracy: 7.6570e-04 - val_loss: 5.7893e-04 - val_accuracy: 0.0000e+00\n",
            "Epoch 223/300\n",
            "327/327 [==============================] - 3s 9ms/step - loss: 2.3512e-04 - accuracy: 7.6570e-04 - val_loss: 2.2718e-04 - val_accuracy: 0.0000e+00\n",
            "Epoch 224/300\n",
            "327/327 [==============================] - 3s 10ms/step - loss: 2.3942e-04 - accuracy: 7.6570e-04 - val_loss: 2.3708e-04 - val_accuracy: 0.0000e+00\n",
            "Epoch 225/300\n",
            "327/327 [==============================] - 3s 9ms/step - loss: 2.7786e-04 - accuracy: 7.6570e-04 - val_loss: 2.1939e-04 - val_accuracy: 0.0000e+00\n",
            "Epoch 226/300\n",
            "327/327 [==============================] - 3s 10ms/step - loss: 2.4855e-04 - accuracy: 7.6570e-04 - val_loss: 2.2922e-04 - val_accuracy: 0.0000e+00\n",
            "Epoch 227/300\n",
            "327/327 [==============================] - 3s 9ms/step - loss: 2.3507e-04 - accuracy: 7.6570e-04 - val_loss: 2.5086e-04 - val_accuracy: 0.0000e+00\n",
            "Epoch 228/300\n",
            "327/327 [==============================] - 3s 9ms/step - loss: 2.3577e-04 - accuracy: 7.6570e-04 - val_loss: 2.0939e-04 - val_accuracy: 0.0000e+00\n",
            "Epoch 229/300\n",
            "327/327 [==============================] - 3s 9ms/step - loss: 2.4137e-04 - accuracy: 7.6570e-04 - val_loss: 1.9976e-04 - val_accuracy: 0.0000e+00\n",
            "Epoch 230/300\n",
            "327/327 [==============================] - 3s 9ms/step - loss: 2.4540e-04 - accuracy: 7.6570e-04 - val_loss: 2.1268e-04 - val_accuracy: 0.0000e+00\n",
            "Epoch 231/300\n",
            "327/327 [==============================] - 3s 9ms/step - loss: 2.3267e-04 - accuracy: 7.6570e-04 - val_loss: 2.0872e-04 - val_accuracy: 0.0000e+00\n",
            "Epoch 232/300\n",
            "327/327 [==============================] - 3s 9ms/step - loss: 2.2725e-04 - accuracy: 7.6570e-04 - val_loss: 2.1947e-04 - val_accuracy: 0.0000e+00\n",
            "Epoch 233/300\n",
            "327/327 [==============================] - 3s 9ms/step - loss: 2.4688e-04 - accuracy: 7.6570e-04 - val_loss: 2.2028e-04 - val_accuracy: 0.0000e+00\n",
            "Epoch 234/300\n",
            "327/327 [==============================] - 3s 9ms/step - loss: 2.5612e-04 - accuracy: 7.6570e-04 - val_loss: 2.0567e-04 - val_accuracy: 0.0000e+00\n",
            "Epoch 235/300\n",
            "327/327 [==============================] - 3s 9ms/step - loss: 2.2846e-04 - accuracy: 7.6570e-04 - val_loss: 2.1131e-04 - val_accuracy: 0.0000e+00\n",
            "Epoch 236/300\n",
            "327/327 [==============================] - 3s 10ms/step - loss: 2.1687e-04 - accuracy: 7.6570e-04 - val_loss: 2.1649e-04 - val_accuracy: 0.0000e+00\n",
            "Epoch 237/300\n",
            "327/327 [==============================] - 3s 9ms/step - loss: 2.3213e-04 - accuracy: 7.6570e-04 - val_loss: 2.3419e-04 - val_accuracy: 0.0000e+00\n",
            "Epoch 238/300\n",
            "327/327 [==============================] - 3s 9ms/step - loss: 2.4188e-04 - accuracy: 7.6570e-04 - val_loss: 2.5144e-04 - val_accuracy: 0.0000e+00\n",
            "Epoch 239/300\n",
            "327/327 [==============================] - 3s 9ms/step - loss: 2.5920e-04 - accuracy: 7.6570e-04 - val_loss: 2.2677e-04 - val_accuracy: 0.0000e+00\n",
            "Epoch 240/300\n",
            "327/327 [==============================] - 3s 9ms/step - loss: 2.4259e-04 - accuracy: 7.6570e-04 - val_loss: 2.4063e-04 - val_accuracy: 0.0000e+00\n",
            "Epoch 241/300\n",
            "327/327 [==============================] - 3s 9ms/step - loss: 2.4186e-04 - accuracy: 7.6570e-04 - val_loss: 4.1164e-04 - val_accuracy: 0.0000e+00\n",
            "Epoch 242/300\n",
            "327/327 [==============================] - 3s 9ms/step - loss: 2.4076e-04 - accuracy: 7.6570e-04 - val_loss: 2.2890e-04 - val_accuracy: 0.0000e+00\n",
            "Epoch 243/300\n",
            "327/327 [==============================] - 3s 9ms/step - loss: 2.3136e-04 - accuracy: 7.6570e-04 - val_loss: 2.3605e-04 - val_accuracy: 0.0000e+00\n",
            "Epoch 244/300\n",
            "327/327 [==============================] - 3s 9ms/step - loss: 2.5682e-04 - accuracy: 7.6570e-04 - val_loss: 2.0171e-04 - val_accuracy: 0.0000e+00\n",
            "Epoch 245/300\n",
            "327/327 [==============================] - 3s 10ms/step - loss: 2.7070e-04 - accuracy: 7.6570e-04 - val_loss: 2.1257e-04 - val_accuracy: 0.0000e+00\n",
            "Epoch 246/300\n",
            "327/327 [==============================] - 3s 9ms/step - loss: 2.2038e-04 - accuracy: 7.6570e-04 - val_loss: 2.4209e-04 - val_accuracy: 0.0000e+00\n",
            "Epoch 247/300\n",
            "327/327 [==============================] - 3s 9ms/step - loss: 2.4723e-04 - accuracy: 7.6570e-04 - val_loss: 2.4031e-04 - val_accuracy: 0.0000e+00\n",
            "Epoch 248/300\n",
            "327/327 [==============================] - 3s 9ms/step - loss: 2.4342e-04 - accuracy: 7.6570e-04 - val_loss: 2.0531e-04 - val_accuracy: 0.0000e+00\n",
            "Epoch 249/300\n",
            "327/327 [==============================] - 3s 9ms/step - loss: 2.4331e-04 - accuracy: 7.6570e-04 - val_loss: 4.0201e-04 - val_accuracy: 0.0000e+00\n",
            "Epoch 250/300\n",
            "327/327 [==============================] - 3s 9ms/step - loss: 2.6201e-04 - accuracy: 7.6570e-04 - val_loss: 2.8932e-04 - val_accuracy: 0.0000e+00\n",
            "Epoch 251/300\n",
            "327/327 [==============================] - 3s 9ms/step - loss: 2.3721e-04 - accuracy: 7.6570e-04 - val_loss: 2.7407e-04 - val_accuracy: 0.0000e+00\n",
            "Epoch 252/300\n",
            "327/327 [==============================] - 3s 9ms/step - loss: 2.2869e-04 - accuracy: 7.6570e-04 - val_loss: 2.1369e-04 - val_accuracy: 0.0000e+00\n",
            "Epoch 253/300\n",
            "327/327 [==============================] - 3s 9ms/step - loss: 2.2900e-04 - accuracy: 7.6570e-04 - val_loss: 2.2578e-04 - val_accuracy: 0.0000e+00\n",
            "Epoch 254/300\n",
            "327/327 [==============================] - 3s 9ms/step - loss: 2.4864e-04 - accuracy: 7.6570e-04 - val_loss: 3.0160e-04 - val_accuracy: 0.0000e+00\n",
            "Epoch 255/300\n",
            "327/327 [==============================] - 3s 9ms/step - loss: 2.2516e-04 - accuracy: 7.6570e-04 - val_loss: 2.6268e-04 - val_accuracy: 0.0000e+00\n",
            "Epoch 256/300\n",
            "327/327 [==============================] - 3s 9ms/step - loss: 2.2224e-04 - accuracy: 7.6570e-04 - val_loss: 2.0985e-04 - val_accuracy: 0.0000e+00\n",
            "Epoch 257/300\n",
            "327/327 [==============================] - 3s 9ms/step - loss: 2.3455e-04 - accuracy: 7.6570e-04 - val_loss: 2.0176e-04 - val_accuracy: 0.0000e+00\n",
            "Epoch 258/300\n",
            "327/327 [==============================] - 3s 9ms/step - loss: 2.3143e-04 - accuracy: 7.6570e-04 - val_loss: 2.0722e-04 - val_accuracy: 0.0000e+00\n",
            "Epoch 259/300\n",
            "327/327 [==============================] - 3s 9ms/step - loss: 2.2729e-04 - accuracy: 7.6570e-04 - val_loss: 2.0626e-04 - val_accuracy: 0.0000e+00\n",
            "Epoch 260/300\n",
            "327/327 [==============================] - 3s 10ms/step - loss: 2.4993e-04 - accuracy: 7.6570e-04 - val_loss: 2.4007e-04 - val_accuracy: 0.0000e+00\n",
            "Epoch 261/300\n",
            "327/327 [==============================] - 3s 10ms/step - loss: 2.5467e-04 - accuracy: 7.6570e-04 - val_loss: 2.1374e-04 - val_accuracy: 0.0000e+00\n",
            "Epoch 262/300\n",
            "327/327 [==============================] - 3s 10ms/step - loss: 2.2797e-04 - accuracy: 7.6570e-04 - val_loss: 2.0702e-04 - val_accuracy: 0.0000e+00\n",
            "Epoch 263/300\n",
            "327/327 [==============================] - 3s 9ms/step - loss: 2.2525e-04 - accuracy: 7.6570e-04 - val_loss: 2.4616e-04 - val_accuracy: 0.0000e+00\n",
            "Epoch 264/300\n",
            "327/327 [==============================] - 3s 9ms/step - loss: 2.3491e-04 - accuracy: 7.6570e-04 - val_loss: 2.1204e-04 - val_accuracy: 0.0000e+00\n",
            "Epoch 265/300\n",
            "327/327 [==============================] - 3s 9ms/step - loss: 2.2281e-04 - accuracy: 7.6570e-04 - val_loss: 2.3453e-04 - val_accuracy: 0.0000e+00\n",
            "Epoch 266/300\n",
            "327/327 [==============================] - 3s 9ms/step - loss: 2.3134e-04 - accuracy: 7.6570e-04 - val_loss: 2.0541e-04 - val_accuracy: 0.0000e+00\n",
            "Epoch 267/300\n",
            "327/327 [==============================] - 3s 9ms/step - loss: 2.3961e-04 - accuracy: 7.6570e-04 - val_loss: 4.3880e-04 - val_accuracy: 0.0000e+00\n",
            "Epoch 268/300\n",
            "327/327 [==============================] - 3s 9ms/step - loss: 2.5804e-04 - accuracy: 7.6570e-04 - val_loss: 2.5690e-04 - val_accuracy: 0.0000e+00\n",
            "Epoch 269/300\n",
            "327/327 [==============================] - 3s 9ms/step - loss: 2.6241e-04 - accuracy: 7.6570e-04 - val_loss: 2.4686e-04 - val_accuracy: 0.0000e+00\n",
            "Epoch 270/300\n",
            "327/327 [==============================] - 3s 9ms/step - loss: 2.3258e-04 - accuracy: 7.6570e-04 - val_loss: 2.0435e-04 - val_accuracy: 0.0000e+00\n",
            "Epoch 271/300\n",
            "327/327 [==============================] - 3s 9ms/step - loss: 2.3912e-04 - accuracy: 7.6570e-04 - val_loss: 2.0066e-04 - val_accuracy: 0.0000e+00\n",
            "Epoch 272/300\n",
            "327/327 [==============================] - 3s 9ms/step - loss: 2.5803e-04 - accuracy: 7.6570e-04 - val_loss: 3.1052e-04 - val_accuracy: 0.0000e+00\n",
            "Epoch 273/300\n",
            "327/327 [==============================] - 3s 9ms/step - loss: 2.3477e-04 - accuracy: 7.6570e-04 - val_loss: 2.0914e-04 - val_accuracy: 0.0000e+00\n",
            "Epoch 274/300\n",
            "327/327 [==============================] - 3s 9ms/step - loss: 2.3603e-04 - accuracy: 7.6570e-04 - val_loss: 2.8031e-04 - val_accuracy: 0.0000e+00\n",
            "Epoch 275/300\n",
            "327/327 [==============================] - 3s 9ms/step - loss: 2.3619e-04 - accuracy: 7.6570e-04 - val_loss: 2.1767e-04 - val_accuracy: 0.0000e+00\n",
            "Epoch 276/300\n",
            "327/327 [==============================] - 3s 9ms/step - loss: 2.3715e-04 - accuracy: 7.6570e-04 - val_loss: 2.4440e-04 - val_accuracy: 0.0000e+00\n",
            "Epoch 277/300\n",
            "327/327 [==============================] - 3s 9ms/step - loss: 2.2822e-04 - accuracy: 7.6570e-04 - val_loss: 2.0394e-04 - val_accuracy: 0.0000e+00\n",
            "Epoch 278/300\n",
            "327/327 [==============================] - 3s 9ms/step - loss: 2.4809e-04 - accuracy: 7.6570e-04 - val_loss: 2.1269e-04 - val_accuracy: 0.0000e+00\n",
            "Epoch 279/300\n",
            "327/327 [==============================] - 3s 9ms/step - loss: 2.3862e-04 - accuracy: 7.6570e-04 - val_loss: 2.1718e-04 - val_accuracy: 0.0000e+00\n",
            "Epoch 280/300\n",
            "327/327 [==============================] - 3s 9ms/step - loss: 2.3803e-04 - accuracy: 7.6570e-04 - val_loss: 2.1440e-04 - val_accuracy: 0.0000e+00\n",
            "Epoch 281/300\n",
            "327/327 [==============================] - 3s 9ms/step - loss: 2.3110e-04 - accuracy: 7.6570e-04 - val_loss: 2.0918e-04 - val_accuracy: 0.0000e+00\n",
            "Epoch 282/300\n",
            "327/327 [==============================] - 3s 9ms/step - loss: 2.1900e-04 - accuracy: 7.6570e-04 - val_loss: 2.4042e-04 - val_accuracy: 0.0000e+00\n",
            "Epoch 283/300\n",
            "327/327 [==============================] - 3s 9ms/step - loss: 2.2774e-04 - accuracy: 7.6570e-04 - val_loss: 2.4490e-04 - val_accuracy: 0.0000e+00\n",
            "Epoch 284/300\n",
            "327/327 [==============================] - 3s 9ms/step - loss: 2.3151e-04 - accuracy: 7.6570e-04 - val_loss: 2.3998e-04 - val_accuracy: 0.0000e+00\n",
            "Epoch 285/300\n",
            "327/327 [==============================] - 3s 9ms/step - loss: 2.3480e-04 - accuracy: 7.6570e-04 - val_loss: 2.1074e-04 - val_accuracy: 0.0000e+00\n",
            "Epoch 286/300\n",
            "327/327 [==============================] - 3s 9ms/step - loss: 2.4094e-04 - accuracy: 7.6570e-04 - val_loss: 2.1023e-04 - val_accuracy: 0.0000e+00\n",
            "Epoch 287/300\n",
            "327/327 [==============================] - 3s 9ms/step - loss: 2.3717e-04 - accuracy: 7.6570e-04 - val_loss: 2.7455e-04 - val_accuracy: 0.0000e+00\n",
            "Epoch 288/300\n",
            "327/327 [==============================] - 3s 9ms/step - loss: 2.5469e-04 - accuracy: 7.6570e-04 - val_loss: 2.2174e-04 - val_accuracy: 0.0000e+00\n",
            "Epoch 289/300\n",
            "327/327 [==============================] - 3s 9ms/step - loss: 2.3274e-04 - accuracy: 7.6570e-04 - val_loss: 3.2348e-04 - val_accuracy: 0.0000e+00\n",
            "Epoch 290/300\n",
            "327/327 [==============================] - 3s 9ms/step - loss: 2.4761e-04 - accuracy: 7.6570e-04 - val_loss: 2.8157e-04 - val_accuracy: 0.0000e+00\n",
            "Epoch 291/300\n",
            "327/327 [==============================] - 3s 9ms/step - loss: 2.4147e-04 - accuracy: 7.6570e-04 - val_loss: 2.2030e-04 - val_accuracy: 0.0000e+00\n",
            "Epoch 292/300\n",
            "327/327 [==============================] - 3s 9ms/step - loss: 2.4468e-04 - accuracy: 7.6570e-04 - val_loss: 2.2058e-04 - val_accuracy: 0.0000e+00\n",
            "Epoch 293/300\n",
            "327/327 [==============================] - 3s 10ms/step - loss: 2.1563e-04 - accuracy: 7.6570e-04 - val_loss: 2.3731e-04 - val_accuracy: 0.0000e+00\n",
            "Epoch 294/300\n",
            "327/327 [==============================] - 3s 9ms/step - loss: 2.2649e-04 - accuracy: 7.6570e-04 - val_loss: 3.0887e-04 - val_accuracy: 0.0000e+00\n",
            "Epoch 295/300\n",
            "327/327 [==============================] - 3s 9ms/step - loss: 2.2104e-04 - accuracy: 7.6570e-04 - val_loss: 2.0157e-04 - val_accuracy: 0.0000e+00\n",
            "Epoch 296/300\n",
            "327/327 [==============================] - 3s 10ms/step - loss: 2.3354e-04 - accuracy: 7.6570e-04 - val_loss: 2.0040e-04 - val_accuracy: 0.0000e+00\n",
            "Epoch 297/300\n",
            "327/327 [==============================] - 3s 9ms/step - loss: 2.1993e-04 - accuracy: 7.6570e-04 - val_loss: 2.2606e-04 - val_accuracy: 0.0000e+00\n",
            "Epoch 298/300\n",
            "327/327 [==============================] - 3s 9ms/step - loss: 2.2172e-04 - accuracy: 7.6570e-04 - val_loss: 2.1305e-04 - val_accuracy: 0.0000e+00\n",
            "Epoch 299/300\n",
            "327/327 [==============================] - 3s 10ms/step - loss: 2.2863e-04 - accuracy: 7.6570e-04 - val_loss: 2.3400e-04 - val_accuracy: 0.0000e+00\n",
            "Epoch 300/300\n",
            "327/327 [==============================] - 3s 11ms/step - loss: 2.3594e-04 - accuracy: 7.6570e-04 - val_loss: 2.0283e-04 - val_accuracy: 0.0000e+00\n"
          ],
          "name": "stdout"
        },
        {
          "output_type": "execute_result",
          "data": {
            "text/plain": [
              "<tensorflow.python.keras.callbacks.History at 0x7fa0a976b550>"
            ]
          },
          "metadata": {
            "tags": []
          },
          "execution_count": 133
        }
      ]
    },
    {
      "cell_type": "code",
      "metadata": {
        "id": "qRuNxRh2NFrA"
      },
      "source": [
        "from keras.models import model_from_json\n",
        "import os\n",
        "model_json = model.to_json()\n",
        "with open(\"model.json\", \"w\") as json_file:\n",
        "    json_file.write(model_json)\n",
        "model.save_weights(\"model.h5\")"
      ],
      "execution_count": 134,
      "outputs": []
    },
    {
      "cell_type": "code",
      "metadata": {
        "id": "lQ41BeEsNF6d"
      },
      "source": [
        "json_file = open('model.json', 'r')\n",
        "loaded_model_json = json_file.read()\n",
        "json_file.close()\n",
        "model = model_from_json(loaded_model_json)\n",
        "\n",
        "model.load_weights(\"model.h5\")"
      ],
      "execution_count": 135,
      "outputs": []
    },
    {
      "cell_type": "code",
      "metadata": {
        "id": "8ErUoy3Y0udA"
      },
      "source": [
        "#create the test dataset\n",
        "#create a new array containing scaled values from index 464 to 655\n",
        "test_data = scaled_data[train_size - time_stamp:,:]\n",
        "#create the dataset x_test and y_test\n",
        "x_test = []\n",
        "dataset = df.values\n",
        "y_test = dataset[train_size:,:]\n",
        "for i in range(time_stamp, len(test_data)):\n",
        "  x_test.append(test_data[i-time_stamp:i,0])"
      ],
      "execution_count": 136,
      "outputs": []
    },
    {
      "cell_type": "code",
      "metadata": {
        "id": "P_Z9Wku5LSax",
        "outputId": "f5ba062d-379e-4870-d9ee-183c898c2447",
        "colab": {
          "base_uri": "https://localhost:8080/"
        }
      },
      "source": [
        "#x_test.shape\n",
        "y_test.shape"
      ],
      "execution_count": 137,
      "outputs": [
        {
          "output_type": "execute_result",
          "data": {
            "text/plain": [
              "(772, 6)"
            ]
          },
          "metadata": {
            "tags": []
          },
          "execution_count": 137
        }
      ]
    },
    {
      "cell_type": "code",
      "metadata": {
        "id": "Nc5juw7o4cSO"
      },
      "source": [
        "#convert the data to a numpy array\n",
        "x_test = np.array(x_test)"
      ],
      "execution_count": 138,
      "outputs": []
    },
    {
      "cell_type": "code",
      "metadata": {
        "id": "C6BXYD6S4cY-"
      },
      "source": [
        "#reshape the data\n",
        "x_test = np.reshape(x_test, (x_test.shape[0], x_test.shape[1], 1))"
      ],
      "execution_count": 139,
      "outputs": []
    },
    {
      "cell_type": "code",
      "metadata": {
        "id": "zAnNIAe44cc7",
        "outputId": "2be23224-0c1c-42ee-9e31-9c0b1e951748",
        "colab": {
          "base_uri": "https://localhost:8080/"
        }
      },
      "source": [
        "#get the models predicted price values\n",
        "predictions = model.predict(x_test)\n",
        "predictions = scaler.inverse_transform(predictions)\n",
        "#predictions = predictions[:712]\n",
        "predictions.shape,y_test.shape"
      ],
      "execution_count": 140,
      "outputs": [
        {
          "output_type": "execute_result",
          "data": {
            "text/plain": [
              "((772, 1), (772, 6))"
            ]
          },
          "metadata": {
            "tags": []
          },
          "execution_count": 140
        }
      ]
    },
    {
      "cell_type": "code",
      "metadata": {
        "id": "Rvtwy4YJP47A",
        "outputId": "dabed285-ec68-468c-9ca7-74d95ef340b0",
        "colab": {
          "base_uri": "https://localhost:8080/"
        }
      },
      "source": [
        "#plot the data\n",
        "train = data[:train_size]\n",
        "valid = data[train_size:]\n",
        "valid['Predictions'] = predictions"
      ],
      "execution_count": 142,
      "outputs": [
        {
          "output_type": "stream",
          "text": [
            "/usr/local/lib/python3.6/dist-packages/ipykernel_launcher.py:4: SettingWithCopyWarning: \n",
            "A value is trying to be set on a copy of a slice from a DataFrame.\n",
            "Try using .loc[row_indexer,col_indexer] = value instead\n",
            "\n",
            "See the caveats in the documentation: https://pandas.pydata.org/pandas-docs/stable/user_guide/indexing.html#returning-a-view-versus-a-copy\n",
            "  after removing the cwd from sys.path.\n"
          ],
          "name": "stderr"
        }
      ]
    },
    {
      "cell_type": "code",
      "metadata": {
        "id": "rkopjhU_P-B1",
        "outputId": "fcfe5a39-f3b9-4109-8b58-9a03ba10b950",
        "colab": {
          "base_uri": "https://localhost:8080/",
          "height": 515
        }
      },
      "source": [
        "#visualize the data\n",
        "plt.figure(figsize=(16,8))\n",
        "plt.title('Model')\n",
        "plt.xlabel('Date', fontsize=18)\n",
        "plt.xlabel('Date', fontsize=18)\n",
        "plt.ylabel('Close Price', fontsize = 18)\n",
        "plt.plot(train['Close'])\n",
        "plt.plot(valid[['Close', 'Predictions']])\n",
        "plt.legend(['Train', 'Val', 'Predictions'], loc='upper right')\n",
        "plt.show()"
      ],
      "execution_count": 143,
      "outputs": [
        {
          "output_type": "display_data",
          "data": {
            "image/png": "[encoded data removed]",
            "text/plain": [
              "<Figure size 1152x576 with 1 Axes>"
            ]
          },
          "metadata": {
            "tags": [],
            "needs_background": "light"
          }
        }
      ]
    },
    {
      "cell_type": "code",
      "metadata": {
        "id": "_KnY6QAi4cri",
        "outputId": "f6c9f41d-adb8-4cf2-db3c-c89d8da7958e",
        "colab": {
          "base_uri": "https://localhost:8080/"
        }
      },
      "source": [
        "#get the quote\n",
        "idea_quote = pdr.DataReader('IDEA.NS', data_source='yahoo', start='2020-03-25', end='2020-08-31')\n",
        "#create a new dataframe\n",
        "new_df= idea_quote.filter(['Close'])\n",
        "#get the last 60 days closing price values and convert the dataframe to an array\n",
        "last_60_days = new_df[-60:].values\n",
        "#scale the data to be values between 0 and 1\n",
        "last_60_days_scaled= scaler.transform(last_60_days)\n",
        "#create an empty list\n",
        "X_test = []\n",
        "#append the past 60 days\n",
        "X_test.append(last_60_days_scaled)\n",
        "#convert the X_test data set to a numpy array\n",
        "X_test = np.array(X_test)\n",
        "#reshape the data\n",
        "X_test = np.reshape(X_test, (X_test.shape[0], X_test.shape[1], 1))\n",
        "#get the predicted scaled price\n",
        "pred_price = model.predict(X_test)\n",
        "#undo the scaling\n",
        "pred_price = scaler.inverse_transform(pred_price)\n",
        "print(pred_price)"
      ],
      "execution_count": 144,
      "outputs": [
        {
          "output_type": "stream",
          "text": [
            "[[14.028273]]\n"
          ],
          "name": "stdout"
        }
      ]
    },
    {
      "cell_type": "code",
      "metadata": {
        "id": "Phqpkhub4cpo",
        "outputId": "f089cc0a-0358-4f9d-8a28-9ccce5389524",
        "colab": {
          "base_uri": "https://localhost:8080/"
        }
      },
      "source": [
        "#get the quote\n",
        "idea_quote2 = pdr.DataReader('IDEA.NS', data_source='yahoo', start='2020-08-31', end ='2020-08-31')\n",
        "print(idea_quote2['Close'])"
      ],
      "execution_count": 145,
      "outputs": [
        {
          "output_type": "stream",
          "text": [
            "Date\n",
            "2020-08-31    10.20\n",
            "2020-09-01     8.85\n",
            "Name: Close, dtype: float64\n"
          ],
          "name": "stdout"
        }
      ]
    },
    {
      "cell_type": "code",
      "metadata": {
        "id": "A3iJkolz4cWp",
        "outputId": "e6732428-ced7-41f9-e058-f8667a125311",
        "colab": {
          "base_uri": "https://localhost:8080/"
        }
      },
      "source": [
        "test_len = len(test_data)\n",
        "test_len"
      ],
      "execution_count": 146,
      "outputs": [
        {
          "output_type": "execute_result",
          "data": {
            "text/plain": [
              "832"
            ]
          },
          "metadata": {
            "tags": []
          },
          "execution_count": 146
        }
      ]
    },
    {
      "cell_type": "code",
      "metadata": {
        "id": "6wZWHqPRDgwL",
        "outputId": "0da60142-4967-41d2-993a-41270664206f",
        "colab": {
          "base_uri": "https://localhost:8080/"
        }
      },
      "source": [
        "look_back = 60\n",
        "x_input=test_data[test_len - look_back:].reshape(1,-1)\n",
        "x_input.shape"
      ],
      "execution_count": 147,
      "outputs": [
        {
          "output_type": "execute_result",
          "data": {
            "text/plain": [
              "(1, 60)"
            ]
          },
          "metadata": {
            "tags": []
          },
          "execution_count": 147
        }
      ]
    },
    {
      "cell_type": "code",
      "metadata": {
        "id": "HlRnSFD7Dg4t"
      },
      "source": [
        "temp_input=list(x_input)\n",
        "temp_input=temp_input[0].tolist()"
      ],
      "execution_count": 148,
      "outputs": []
    },
    {
      "cell_type": "code",
      "metadata": {
        "id": "874f5zKQDg9w",
        "outputId": "c181a535-576a-4df3-f3ad-9fc267b269fe",
        "colab": {
          "base_uri": "https://localhost:8080/"
        }
      },
      "source": [
        "from numpy import array\n",
        "\n",
        "lst_output=[]\n",
        "n_steps=60\n",
        "i=0\n",
        "y_shape = 30\n",
        "\n",
        "while(i<y_shape):\n",
        "    \n",
        "    if(len(temp_input)>n_steps):\n",
        "        #print(temp_input)\n",
        "        x_input=np.array(temp_input[1:])\n",
        "        #print(\"{} day input {}\".format(i,x_input))\n",
        "        x_input=x_input.reshape(1,-1)\n",
        "        x_input = x_input.reshape((1, n_steps, 1))\n",
        "        #print(x_input)\n",
        "        yhat = model.predict(x_input, verbose=0)\n",
        "        print(\"{} day output {}\".format(i,yhat))\n",
        "        temp_input.extend(yhat[0].tolist())\n",
        "        temp_input=temp_input[1:]\n",
        "        #print(temp_input)\n",
        "        lst_output.extend(yhat.tolist())\n",
        "        i=i+1\n",
        "    else:\n",
        "        x_input = x_input.reshape((1, n_steps,1))\n",
        "        yhat = model.predict(x_input, verbose=0)\n",
        "        print(yhat[0])\n",
        "        temp_input.extend(yhat[0].tolist())\n",
        "        #print(len(temp_input))\n",
        "        lst_output.extend(yhat.tolist())\n",
        "        i=i+1\n",
        "print(lst_output)"
      ],
      "execution_count": 149,
      "outputs": [
        {
          "output_type": "stream",
          "text": [
            "[0.09285907]\n",
            "1 day output [[0.12403835]]\n",
            "2 day output [[0.13716537]]\n",
            "3 day output [[0.14761418]]\n",
            "4 day output [[0.16163318]]\n",
            "5 day output [[0.17382142]]\n",
            "6 day output [[0.18547985]]\n",
            "7 day output [[0.19771841]]\n",
            "8 day output [[0.20967229]]\n",
            "9 day output [[0.22138065]]\n",
            "10 day output [[0.23286617]]\n",
            "11 day output [[0.24367857]]\n",
            "12 day output [[0.2535444]]\n",
            "13 day output [[0.26238135]]\n",
            "14 day output [[0.27018997]]\n",
            "15 day output [[0.27710658]]\n",
            "16 day output [[0.28335157]]\n",
            "17 day output [[0.28913587]]\n",
            "18 day output [[0.29461402]]\n",
            "19 day output [[0.29985955]]\n",
            "20 day output [[0.30486536]]\n",
            "21 day output [[0.30957484]]\n",
            "22 day output [[0.31392604]]\n",
            "23 day output [[0.31789047]]\n",
            "24 day output [[0.32149473]]\n",
            "25 day output [[0.32481796]]\n",
            "26 day output [[0.32796925]]\n",
            "27 day output [[0.33105564]]\n",
            "28 day output [[0.33415294]]\n",
            "29 day output [[0.33729094]]\n",
            "[[0.09285906702280045], [0.12403835356235504], [0.137165367603302], [0.14761418104171753], [0.1616331785917282], [0.17382141947746277], [0.18547984957695007], [0.19771841168403625], [0.20967228710651398], [0.22138065099716187], [0.23286616802215576], [0.24367856979370117], [0.2535443902015686], [0.26238134503364563], [0.27018997073173523], [0.2771065831184387], [0.2833515703678131], [0.2891358733177185], [0.2946140170097351], [0.29985955357551575], [0.30486536026000977], [0.30957484245300293], [0.3139260411262512], [0.317890465259552], [0.3214947283267975], [0.324817955493927], [0.3279692530632019], [0.3310556411743164], [0.3341529369354248], [0.3372909426689148]]\n"
          ],
          "name": "stdout"
        }
      ]
    },
    {
      "cell_type": "code",
      "metadata": {
        "id": "4WJD1KsEEDRv",
        "outputId": "f16efaf9-cc5a-44fb-f073-9b05c108895a",
        "colab": {
          "base_uri": "https://localhost:8080/"
        }
      },
      "source": [
        "future = 30\n",
        "df1 = scaled_data\n",
        "day_new=np.arange(1,1+look_back)\n",
        "day_pred=np.arange(1+look_back,1+look_back+future)\n",
        "len(df1)"
      ],
      "execution_count": 150,
      "outputs": [
        {
          "output_type": "execute_result",
          "data": {
            "text/plain": [
              "2574"
            ]
          },
          "metadata": {
            "tags": []
          },
          "execution_count": 150
        }
      ]
    },
    {
      "cell_type": "code",
      "metadata": {
        "id": "c3FgGAHBEDci",
        "outputId": "ca08f8e4-557a-4531-a297-568944b921b0",
        "colab": {
          "base_uri": "https://localhost:8080/",
          "height": 282
        }
      },
      "source": [
        "plt.plot(day_new,scaler.inverse_transform(df1[len(df1)-look_back:]))\n",
        "plt.plot(day_pred,scaler.inverse_transform(lst_output))"
      ],
      "execution_count": 151,
      "outputs": [
        {
          "output_type": "execute_result",
          "data": {
            "text/plain": [
              "[<matplotlib.lines.Line2D at 0x7fa0a9773668>]"
            ]
          },
          "metadata": {
            "tags": []
          },
          "execution_count": 151
        },
        {
          "output_type": "display_data",
          "data": {
            "image/png": "[encoded data removed]",
            "text/plain": [
              "<Figure size 432x288 with 1 Axes>"
            ]
          },
          "metadata": {
            "tags": [],
            "needs_background": "light"
          }
        }
      ]
    },
    {
      "cell_type": "code",
      "metadata": {
        "id": "Pv9goUgPDhBl",
        "outputId": "25f9b791-c6fe-46b0-980f-9b9daa7ffce8",
        "colab": {
          "base_uri": "https://localhost:8080/",
          "height": 285
        }
      },
      "source": [
        "df3=df1.tolist()\n",
        "df3.extend(lst_output)\n",
        "plt.plot(df3[len(df1)-n_steps:])"
      ],
      "execution_count": 152,
      "outputs": [
        {
          "output_type": "execute_result",
          "data": {
            "text/plain": [
              "[<matplotlib.lines.Line2D at 0x7fa07601e908>]"
            ]
          },
          "metadata": {
            "tags": []
          },
          "execution_count": 152
        },
        {
          "output_type": "display_data",
          "data": {
            "image/png": "[encoded data removed]",
            "text/plain": [
              "<Figure size 432x288 with 1 Axes>"
            ]
          },
          "metadata": {
            "tags": [],
            "needs_background": "light"
          }
        }
      ]
    },
    {
      "cell_type": "code",
      "metadata": {
        "id": "65nJNlQNGj6h",
        "outputId": "e6a3920e-7f5a-4241-cc57-a75a2dd454ea",
        "colab": {
          "base_uri": "https://localhost:8080/",
          "height": 282
        }
      },
      "source": [
        "df3=scaler.inverse_transform(df3).tolist()\n",
        "plt.plot(df3)"
      ],
      "execution_count": 153,
      "outputs": [
        {
          "output_type": "execute_result",
          "data": {
            "text/plain": [
              "[<matplotlib.lines.Line2D at 0x7fa0a96e2ac8>]"
            ]
          },
          "metadata": {
            "tags": []
          },
          "execution_count": 153
        },
        {
          "output_type": "display_data",
          "data": {
            "image/png": "[encoded data removed]",
            "text/plain": [
              "<Figure size 432x288 with 1 Axes>"
            ]
          },
          "metadata": {
            "tags": [],
            "needs_background": "light"
          }
        }
      ]
    },
    {
      "cell_type": "code",
      "metadata": {
        "id": "4adpWMJoU0sk",
        "outputId": "bec501af-8ba5-4910-85d4-94f40330423e",
        "colab": {
          "base_uri": "https://localhost:8080/",
          "height": 518
        }
      },
      "source": [
        "df2 = pdr.DataReader('IDEA.NS', data_source='yahoo', start='2020-03-25', end='2020-09-30')\n",
        "#visualize the close price history\n",
        "plt.figure(figsize=(16,8))\n",
        "plt.title(\"Close Price History\")\n",
        "plt.plot(df2['Close'])\n",
        "plt.xlabel('Date', fontsize =18)\n",
        "plt.ylabel('Close Price', fontsize = 18)\n",
        "plt.show()"
      ],
      "execution_count": 156,
      "outputs": [
        {
          "output_type": "display_data",
          "data": {
            "image/png": "[encoded data removed]",
            "text/plain": [
              "<Figure size 1152x576 with 1 Axes>"
            ]
          },
          "metadata": {
            "tags": [],
            "needs_background": "light"
          }
        }
      ]
    },
    {
      "cell_type": "markdown",
      "metadata": {
        "id": "-bO5DrOEVt_8"
      },
      "source": [
        "**So we can see after 2020-06 the trend is high as predicted**"
      ]
    }
  ]
}