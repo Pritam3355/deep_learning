{
  "nbformat": 4,
  "nbformat_minor": 0,
  "metadata": {
    "colab": {
      "name": "dr_nn.ipynb",
      "provenance": []
    },
    "kernelspec": {
      "name": "python3",
      "display_name": "Python 3"
    },
    "accelerator": "GPU"
  },
  "cells": [
    {
      "cell_type": "code",
      "metadata": {
        "id": "H2O1xRWbeht8",
        "colab_type": "code",
        "colab": {
          "base_uri": "https://localhost:8080/",
          "height": 35
        },
        "outputId": "c116cf76-7e40-4e48-88e8-335cdb115785"
      },
      "source": [
        "import numpy as np\n",
        "import pandas as pd\n",
        "import matplotlib.pyplot as plt\n",
        "import tensorflow as tf\n",
        "tf.__version__"
      ],
      "execution_count": 74,
      "outputs": [
        {
          "output_type": "execute_result",
          "data": {
            "application/vnd.google.colaboratory.intrinsic+json": {
              "type": "string"
            },
            "text/plain": [
              "'2.3.0'"
            ]
          },
          "metadata": {
            "tags": []
          },
          "execution_count": 74
        }
      ]
    },
    {
      "cell_type": "code",
      "metadata": {
        "id": "803ROqsbfS7q",
        "colab_type": "code",
        "colab": {}
      },
      "source": [
        "df=pd.read_csv('data.csv',skiprows=23)"
      ],
      "execution_count": 75,
      "outputs": []
    },
    {
      "cell_type": "code",
      "metadata": {
        "id": "orrFeAwhfTFG",
        "colab_type": "code",
        "colab": {}
      },
      "source": [
        "df.rename(columns={'Unnamed: 0':'qlt_assesment', 'Unnamed: 1':'ret_abn' }, inplace=True)\n",
        "df.rename(columns={'Unnamed: 2':'MA_5', 'Unnamed: 3':'MA_6', 'Unnamed: 4':'MA_7', 'Unnamed: 5':'MA_8', 'Unnamed: 6':'MA_9', 'Unnamed: 7':'MA_10'}, inplace=True)\n",
        "df.rename(columns={'Unnamed: 8':'exudates1', 'Unnamed: 9':'exudates2', 'Unnamed: 10':'exudates3', 'Unnamed: 11':'exudates4', 'Unnamed: 12':'exudates5', 'Unnamed: 13':'exudates6', 'Unnamed: 14':'exudates7', 'Unnamed: 15':'exudates8'}, inplace=True)\n",
        "df.rename(columns={'Unnamed: 16':'euc_dis', 'Unnamed: 17':'dia_opd', 'Unnamed: 18':'AMorFM', 'Unnamed: 19':'DR'}, inplace=True)\n",
        "df=df.astype(float)"
      ],
      "execution_count": 76,
      "outputs": []
    },
    {
      "cell_type": "code",
      "metadata": {
        "id": "0Fv_lRSifTMd",
        "colab_type": "code",
        "colab": {
          "base_uri": "https://localhost:8080/",
          "height": 226
        },
        "outputId": "f4be6c2e-b983-4e30-8dcf-fe614c239a9f"
      },
      "source": [
        "df = df[(df.qlt_assesment==1)]\n",
        "df = df.sample(frac=1).reset_index(drop=True)\n",
        "df.head(5)"
      ],
      "execution_count": 77,
      "outputs": [
        {
          "output_type": "execute_result",
          "data": {
            "text/html": [
              "<div>\n",
              "<style scoped>\n",
              "    .dataframe tbody tr th:only-of-type {\n",
              "        vertical-align: middle;\n",
              "    }\n",
              "\n",
              "    .dataframe tbody tr th {\n",
              "        vertical-align: top;\n",
              "    }\n",
              "\n",
              "    .dataframe thead th {\n",
              "        text-align: right;\n",
              "    }\n",
              "</style>\n",
              "<table border=\"1\" class=\"dataframe\">\n",
              "  <thead>\n",
              "    <tr style=\"text-align: right;\">\n",
              "      <th></th>\n",
              "      <th>qlt_assesment</th>\n",
              "      <th>ret_abn</th>\n",
              "      <th>MA_5</th>\n",
              "      <th>MA_6</th>\n",
              "      <th>MA_7</th>\n",
              "      <th>MA_8</th>\n",
              "      <th>MA_9</th>\n",
              "      <th>MA_10</th>\n",
              "      <th>exudates1</th>\n",
              "      <th>exudates2</th>\n",
              "      <th>exudates3</th>\n",
              "      <th>exudates4</th>\n",
              "      <th>exudates5</th>\n",
              "      <th>exudates6</th>\n",
              "      <th>exudates7</th>\n",
              "      <th>exudates8</th>\n",
              "      <th>euc_dis</th>\n",
              "      <th>dia_opd</th>\n",
              "      <th>AMorFM</th>\n",
              "      <th>DR</th>\n",
              "    </tr>\n",
              "  </thead>\n",
              "  <tbody>\n",
              "    <tr>\n",
              "      <th>0</th>\n",
              "      <td>1.0</td>\n",
              "      <td>1.0</td>\n",
              "      <td>49.0</td>\n",
              "      <td>48.0</td>\n",
              "      <td>48.0</td>\n",
              "      <td>48.0</td>\n",
              "      <td>47.0</td>\n",
              "      <td>43.0</td>\n",
              "      <td>45.664014</td>\n",
              "      <td>31.845974</td>\n",
              "      <td>6.041499</td>\n",
              "      <td>0.347320</td>\n",
              "      <td>0.000000</td>\n",
              "      <td>0.000000</td>\n",
              "      <td>0.000000</td>\n",
              "      <td>0.00000</td>\n",
              "      <td>0.495989</td>\n",
              "      <td>0.116812</td>\n",
              "      <td>0.0</td>\n",
              "      <td>0.0</td>\n",
              "    </tr>\n",
              "    <tr>\n",
              "      <th>1</th>\n",
              "      <td>1.0</td>\n",
              "      <td>1.0</td>\n",
              "      <td>35.0</td>\n",
              "      <td>33.0</td>\n",
              "      <td>29.0</td>\n",
              "      <td>28.0</td>\n",
              "      <td>23.0</td>\n",
              "      <td>16.0</td>\n",
              "      <td>136.667753</td>\n",
              "      <td>22.767191</td>\n",
              "      <td>9.801757</td>\n",
              "      <td>2.721685</td>\n",
              "      <td>1.144461</td>\n",
              "      <td>0.790663</td>\n",
              "      <td>0.434813</td>\n",
              "      <td>0.32611</td>\n",
              "      <td>0.572963</td>\n",
              "      <td>0.083066</td>\n",
              "      <td>1.0</td>\n",
              "      <td>1.0</td>\n",
              "    </tr>\n",
              "    <tr>\n",
              "      <th>2</th>\n",
              "      <td>1.0</td>\n",
              "      <td>1.0</td>\n",
              "      <td>59.0</td>\n",
              "      <td>59.0</td>\n",
              "      <td>58.0</td>\n",
              "      <td>58.0</td>\n",
              "      <td>50.0</td>\n",
              "      <td>34.0</td>\n",
              "      <td>43.432426</td>\n",
              "      <td>16.415454</td>\n",
              "      <td>5.927630</td>\n",
              "      <td>1.854915</td>\n",
              "      <td>0.163532</td>\n",
              "      <td>0.004672</td>\n",
              "      <td>0.000000</td>\n",
              "      <td>0.00000</td>\n",
              "      <td>0.540783</td>\n",
              "      <td>0.126153</td>\n",
              "      <td>0.0</td>\n",
              "      <td>0.0</td>\n",
              "    </tr>\n",
              "    <tr>\n",
              "      <th>3</th>\n",
              "      <td>1.0</td>\n",
              "      <td>1.0</td>\n",
              "      <td>5.0</td>\n",
              "      <td>5.0</td>\n",
              "      <td>5.0</td>\n",
              "      <td>5.0</td>\n",
              "      <td>4.0</td>\n",
              "      <td>3.0</td>\n",
              "      <td>106.527790</td>\n",
              "      <td>43.600820</td>\n",
              "      <td>20.391427</td>\n",
              "      <td>2.180248</td>\n",
              "      <td>0.051763</td>\n",
              "      <td>0.000000</td>\n",
              "      <td>0.000000</td>\n",
              "      <td>0.00000</td>\n",
              "      <td>0.550975</td>\n",
              "      <td>0.102490</td>\n",
              "      <td>0.0</td>\n",
              "      <td>0.0</td>\n",
              "    </tr>\n",
              "    <tr>\n",
              "      <th>4</th>\n",
              "      <td>1.0</td>\n",
              "      <td>1.0</td>\n",
              "      <td>62.0</td>\n",
              "      <td>62.0</td>\n",
              "      <td>62.0</td>\n",
              "      <td>57.0</td>\n",
              "      <td>52.0</td>\n",
              "      <td>38.0</td>\n",
              "      <td>55.050124</td>\n",
              "      <td>22.778672</td>\n",
              "      <td>10.414514</td>\n",
              "      <td>2.426668</td>\n",
              "      <td>0.169267</td>\n",
              "      <td>0.029237</td>\n",
              "      <td>0.000000</td>\n",
              "      <td>0.00000</td>\n",
              "      <td>0.494945</td>\n",
              "      <td>0.104638</td>\n",
              "      <td>0.0</td>\n",
              "      <td>0.0</td>\n",
              "    </tr>\n",
              "  </tbody>\n",
              "</table>\n",
              "</div>"
            ],
            "text/plain": [
              "   qlt_assesment  ret_abn  MA_5  MA_6  ...   euc_dis   dia_opd  AMorFM   DR\n",
              "0            1.0      1.0  49.0  48.0  ...  0.495989  0.116812     0.0  0.0\n",
              "1            1.0      1.0  35.0  33.0  ...  0.572963  0.083066     1.0  1.0\n",
              "2            1.0      1.0  59.0  59.0  ...  0.540783  0.126153     0.0  0.0\n",
              "3            1.0      1.0   5.0   5.0  ...  0.550975  0.102490     0.0  0.0\n",
              "4            1.0      1.0  62.0  62.0  ...  0.494945  0.104638     0.0  0.0\n",
              "\n",
              "[5 rows x 20 columns]"
            ]
          },
          "metadata": {
            "tags": []
          },
          "execution_count": 77
        }
      ]
    },
    {
      "cell_type": "code",
      "metadata": {
        "id": "e7MvsLuEfTPc",
        "colab_type": "code",
        "colab": {}
      },
      "source": [
        "# df = df[~(df['MA_5'] >=80)]\n",
        "# df = df[~(df['MA_6'] >=80)]\n",
        "# df = df[~(df['MA_7'] >=80)]\n",
        "# df = df[~(df['MA_8'] >=80)]\n",
        "# df = df[~(df['MA_9'] >=80)]\n",
        "# df = df[~(df['MA_10'] >=50)]"
      ],
      "execution_count": 78,
      "outputs": []
    },
    {
      "cell_type": "code",
      "metadata": {
        "id": "MggqXX0_fTR4",
        "colab_type": "code",
        "colab": {}
      },
      "source": [
        "# df = df[~(df['exudates1'] >=250)]\n",
        "# df = df[~(df['exudates2'] >=100)]\n",
        "# df = df[~(df['exudates3'] >=75)]\n",
        "# df = df[~(df['exudates4'] >=25)]\n",
        "# df = df[~(df['exudates5'] >=25)]\n",
        "# df = df[~(df['exudates6'] >=0.01)]\n",
        "# df = df[~(df['exudates7'] >=0.1)]\n",
        "# df = df[~(df['exudates8'] >=0.1)]"
      ],
      "execution_count": 79,
      "outputs": []
    },
    {
      "cell_type": "code",
      "metadata": {
        "id": "5iANbaLofTUn",
        "colab_type": "code",
        "colab": {}
      },
      "source": [
        "x=df[['MA_5', 'MA_6', 'MA_7', 'MA_8', 'MA_9','MA_10', 'exudates1','exudates3', 'exudates4',\n",
        "       'exudates5', 'exudates6', 'exudates7', 'exudates8','euc_dis','dia_opd']]\n",
        "y=df[['DR']]\n",
        "x=np.array(x)\n",
        "y=np.array(y)"
      ],
      "execution_count": 80,
      "outputs": []
    },
    {
      "cell_type": "code",
      "metadata": {
        "id": "LnQwe8Fo0yEl",
        "colab_type": "code",
        "colab": {
          "base_uri": "https://localhost:8080/",
          "height": 34
        },
        "outputId": "67343753-d384-49a6-ed74-b16def53b525"
      },
      "source": [
        "x.shape"
      ],
      "execution_count": 81,
      "outputs": [
        {
          "output_type": "execute_result",
          "data": {
            "text/plain": [
              "(1147, 15)"
            ]
          },
          "metadata": {
            "tags": []
          },
          "execution_count": 81
        }
      ]
    },
    {
      "cell_type": "code",
      "metadata": {
        "id": "l_yainSufTXo",
        "colab_type": "code",
        "colab": {}
      },
      "source": [
        "train_index = int(len(df)*0.75)\n",
        "x_train, x_test = x[:train_index], x[train_index:]\n",
        "y_train,y_test = y[:train_index],y[train_index:]"
      ],
      "execution_count": 82,
      "outputs": []
    },
    {
      "cell_type": "code",
      "metadata": {
        "id": "TpuqUvIPh6SV",
        "colab_type": "code",
        "colab": {
          "base_uri": "https://localhost:8080/",
          "height": 34
        },
        "outputId": "7099ebc3-bf97-440f-e823-62e52a87b8be"
      },
      "source": [
        "x_train.shape "
      ],
      "execution_count": 83,
      "outputs": [
        {
          "output_type": "execute_result",
          "data": {
            "text/plain": [
              "(860, 15)"
            ]
          },
          "metadata": {
            "tags": []
          },
          "execution_count": 83
        }
      ]
    },
    {
      "cell_type": "code",
      "metadata": {
        "id": "CEDwrLpH2xQs",
        "colab_type": "code",
        "colab": {
          "base_uri": "https://localhost:8080/",
          "height": 34
        },
        "outputId": "402b02e6-b201-4684-c7e0-878eff7b6513"
      },
      "source": [
        "y_test.shape"
      ],
      "execution_count": 84,
      "outputs": [
        {
          "output_type": "execute_result",
          "data": {
            "text/plain": [
              "(287, 1)"
            ]
          },
          "metadata": {
            "tags": []
          },
          "execution_count": 84
        }
      ]
    },
    {
      "cell_type": "code",
      "metadata": {
        "id": "4IHP4FLRgdNf",
        "colab_type": "code",
        "colab": {}
      },
      "source": [
        "# Feature Scaling\n",
        "from sklearn.preprocessing import StandardScaler\n",
        "sc = StandardScaler()\n",
        "x_train = sc.fit_transform(x_train)\n",
        "x_test = sc.transform(x_test)"
      ],
      "execution_count": 85,
      "outputs": []
    },
    {
      "cell_type": "code",
      "metadata": {
        "id": "ySEW596hj3dk",
        "colab_type": "code",
        "colab": {}
      },
      "source": [
        "from keras.constraints import maxnorm\n",
        "from tensorflow import keras\n",
        "from keras.models import Sequential\n",
        "from keras.layers import Dense\n",
        "from keras.layers import Dropout\n",
        "from keras.optimizers import SGD"
      ],
      "execution_count": 86,
      "outputs": []
    },
    {
      "cell_type": "code",
      "metadata": {
        "id": "PeOCJUi4fTaX",
        "colab_type": "code",
        "colab": {}
      },
      "source": [
        "def build_model():\n",
        "  model = Sequential()\n",
        "  model.add(Dense(units=860,input_dim=15, activation='relu'))\n",
        "  #model.add(Dropout(0.2))\n",
        "  model.add(Dense(units=430, activation='relu',kernel_regularizer=tf.keras.regularizers.L1(0.01)))\n",
        "  model.add(Dropout(0.4))\n",
        "  model.add(Dense(units=215,activation='relu'))\n",
        "  #model.add(Dropout(0.2))\n",
        "  model.add(Dense(units=54,activation='relu'))\n",
        "  model.add(Dense(units=9,activation='relu'))\n",
        "  model.add(Dense(units=1, activation='sigmoid'))\n",
        "  sgd = SGD(lr=0.01, momentum=0.9)\n",
        "  model.compile(optimizer = sgd, loss = 'binary_crossentropy', metrics = ['accuracy'])\n",
        "  return model"
      ],
      "execution_count": 87,
      "outputs": []
    },
    {
      "cell_type": "code",
      "metadata": {
        "id": "msBHo7UtusOk",
        "colab_type": "code",
        "colab": {
          "base_uri": "https://localhost:8080/",
          "height": 1000
        },
        "outputId": "63c45f96-9fb0-44a2-e6d1-23fd96f6e635"
      },
      "source": [
        "model = build_model()\n",
        "history = model.fit(x_test,y_test, validation_data=(x_test, y_test), epochs=300, batch_size=32, verbose=1)\n",
        "print(history.history.keys())"
      ],
      "execution_count": 88,
      "outputs": [
        {
          "output_type": "stream",
          "text": [
            "Epoch 1/300\n",
            "9/9 [==============================] - 0s 22ms/step - loss: 122.6310 - accuracy: 0.4878 - val_loss: 114.2260 - val_accuracy: 0.5679\n",
            "Epoch 2/300\n",
            "9/9 [==============================] - 0s 7ms/step - loss: 104.6476 - accuracy: 0.5540 - val_loss: 91.9005 - val_accuracy: 0.5645\n",
            "Epoch 3/300\n",
            "9/9 [==============================] - 0s 7ms/step - loss: 81.5156 - accuracy: 0.5679 - val_loss: 68.6961 - val_accuracy: 0.5645\n",
            "Epoch 4/300\n",
            "9/9 [==============================] - 0s 7ms/step - loss: 59.2199 - accuracy: 0.5645 - val_loss: 47.8888 - val_accuracy: 0.5645\n",
            "Epoch 5/300\n",
            "9/9 [==============================] - 0s 7ms/step - loss: 39.9324 - accuracy: 0.5645 - val_loss: 30.6682 - val_accuracy: 0.5645\n",
            "Epoch 6/300\n",
            "9/9 [==============================] - 0s 8ms/step - loss: 24.4899 - accuracy: 0.5645 - val_loss: 17.5021 - val_accuracy: 0.5645\n",
            "Epoch 7/300\n",
            "9/9 [==============================] - 0s 6ms/step - loss: 13.1885 - accuracy: 0.5645 - val_loss: 8.5585 - val_accuracy: 0.5645\n",
            "Epoch 8/300\n",
            "9/9 [==============================] - 0s 8ms/step - loss: 6.1651 - accuracy: 0.5645 - val_loss: 3.9693 - val_accuracy: 0.5645\n",
            "Epoch 9/300\n",
            "9/9 [==============================] - 0s 6ms/step - loss: 3.4326 - accuracy: 0.5645 - val_loss: 3.0162 - val_accuracy: 0.5645\n",
            "Epoch 10/300\n",
            "9/9 [==============================] - 0s 6ms/step - loss: 2.4706 - accuracy: 0.5645 - val_loss: 1.8953 - val_accuracy: 0.5645\n",
            "Epoch 11/300\n",
            "9/9 [==============================] - 0s 6ms/step - loss: 1.7606 - accuracy: 0.5645 - val_loss: 1.5358 - val_accuracy: 0.5645\n",
            "Epoch 12/300\n",
            "9/9 [==============================] - 0s 6ms/step - loss: 1.4370 - accuracy: 0.5645 - val_loss: 1.3324 - val_accuracy: 0.5645\n",
            "Epoch 13/300\n",
            "9/9 [==============================] - 0s 6ms/step - loss: 1.2874 - accuracy: 0.5645 - val_loss: 1.2390 - val_accuracy: 0.5645\n",
            "Epoch 14/300\n",
            "9/9 [==============================] - 0s 6ms/step - loss: 1.2163 - accuracy: 0.5645 - val_loss: 1.1923 - val_accuracy: 0.5645\n",
            "Epoch 15/300\n",
            "9/9 [==============================] - 0s 6ms/step - loss: 1.1820 - accuracy: 0.5645 - val_loss: 1.1691 - val_accuracy: 0.5645\n",
            "Epoch 16/300\n",
            "9/9 [==============================] - 0s 6ms/step - loss: 1.1684 - accuracy: 0.5645 - val_loss: 1.1612 - val_accuracy: 0.5645\n",
            "Epoch 17/300\n",
            "9/9 [==============================] - 0s 6ms/step - loss: 1.1584 - accuracy: 0.5645 - val_loss: 1.1533 - val_accuracy: 0.5645\n",
            "Epoch 18/300\n",
            "9/9 [==============================] - 0s 6ms/step - loss: 1.1530 - accuracy: 0.5645 - val_loss: 1.1505 - val_accuracy: 0.5645\n",
            "Epoch 19/300\n",
            "9/9 [==============================] - 0s 7ms/step - loss: 1.1501 - accuracy: 0.5645 - val_loss: 1.1478 - val_accuracy: 0.5645\n",
            "Epoch 20/300\n",
            "9/9 [==============================] - 0s 6ms/step - loss: 1.1490 - accuracy: 0.5645 - val_loss: 1.1465 - val_accuracy: 0.5645\n",
            "Epoch 21/300\n",
            "9/9 [==============================] - 0s 6ms/step - loss: 1.1500 - accuracy: 0.5645 - val_loss: 1.1475 - val_accuracy: 0.5645\n",
            "Epoch 22/300\n",
            "9/9 [==============================] - 0s 6ms/step - loss: 1.1481 - accuracy: 0.5645 - val_loss: 1.1517 - val_accuracy: 0.5645\n",
            "Epoch 23/300\n",
            "9/9 [==============================] - 0s 7ms/step - loss: 1.1523 - accuracy: 0.5645 - val_loss: 1.1502 - val_accuracy: 0.5645\n",
            "Epoch 24/300\n",
            "9/9 [==============================] - 0s 6ms/step - loss: 1.1480 - accuracy: 0.5645 - val_loss: 1.1420 - val_accuracy: 0.5645\n",
            "Epoch 25/300\n",
            "9/9 [==============================] - 0s 6ms/step - loss: 1.1452 - accuracy: 0.5645 - val_loss: 1.1454 - val_accuracy: 0.5645\n",
            "Epoch 26/300\n",
            "9/9 [==============================] - 0s 5ms/step - loss: 1.1463 - accuracy: 0.5645 - val_loss: 1.1465 - val_accuracy: 0.5645\n",
            "Epoch 27/300\n",
            "9/9 [==============================] - 0s 5ms/step - loss: 1.1455 - accuracy: 0.5645 - val_loss: 1.1453 - val_accuracy: 0.5645\n",
            "Epoch 28/300\n",
            "9/9 [==============================] - 0s 5ms/step - loss: 1.1447 - accuracy: 0.5645 - val_loss: 1.1425 - val_accuracy: 0.5645\n",
            "Epoch 29/300\n",
            "9/9 [==============================] - 0s 6ms/step - loss: 1.1456 - accuracy: 0.5645 - val_loss: 1.1440 - val_accuracy: 0.5645\n",
            "Epoch 30/300\n",
            "9/9 [==============================] - 0s 5ms/step - loss: 1.1446 - accuracy: 0.5645 - val_loss: 1.1411 - val_accuracy: 0.5645\n",
            "Epoch 31/300\n",
            "9/9 [==============================] - 0s 6ms/step - loss: 1.1474 - accuracy: 0.5645 - val_loss: 1.1502 - val_accuracy: 0.5645\n",
            "Epoch 32/300\n",
            "9/9 [==============================] - 0s 5ms/step - loss: 1.1453 - accuracy: 0.5645 - val_loss: 1.1482 - val_accuracy: 0.5645\n",
            "Epoch 33/300\n",
            "9/9 [==============================] - 0s 5ms/step - loss: 1.1495 - accuracy: 0.5645 - val_loss: 1.1447 - val_accuracy: 0.5645\n",
            "Epoch 34/300\n",
            "9/9 [==============================] - 0s 5ms/step - loss: 1.1501 - accuracy: 0.5645 - val_loss: 1.1458 - val_accuracy: 0.5645\n",
            "Epoch 35/300\n",
            "9/9 [==============================] - 0s 5ms/step - loss: 1.1466 - accuracy: 0.5645 - val_loss: 1.1496 - val_accuracy: 0.5645\n",
            "Epoch 36/300\n",
            "9/9 [==============================] - 0s 5ms/step - loss: 1.1495 - accuracy: 0.5645 - val_loss: 1.1521 - val_accuracy: 0.5645\n",
            "Epoch 37/300\n",
            "9/9 [==============================] - 0s 5ms/step - loss: 1.1501 - accuracy: 0.5645 - val_loss: 1.1487 - val_accuracy: 0.5645\n",
            "Epoch 38/300\n",
            "9/9 [==============================] - 0s 5ms/step - loss: 1.1484 - accuracy: 0.5645 - val_loss: 1.1495 - val_accuracy: 0.5645\n",
            "Epoch 39/300\n",
            "9/9 [==============================] - 0s 5ms/step - loss: 1.1469 - accuracy: 0.5645 - val_loss: 1.1437 - val_accuracy: 0.5645\n",
            "Epoch 40/300\n",
            "9/9 [==============================] - 0s 6ms/step - loss: 1.1461 - accuracy: 0.5645 - val_loss: 1.1455 - val_accuracy: 0.5645\n",
            "Epoch 41/300\n",
            "9/9 [==============================] - 0s 7ms/step - loss: 1.1452 - accuracy: 0.5645 - val_loss: 1.1442 - val_accuracy: 0.5645\n",
            "Epoch 42/300\n",
            "9/9 [==============================] - 0s 6ms/step - loss: 1.1441 - accuracy: 0.5645 - val_loss: 1.1422 - val_accuracy: 0.5645\n",
            "Epoch 43/300\n",
            "9/9 [==============================] - 0s 7ms/step - loss: 1.1398 - accuracy: 0.5645 - val_loss: 1.1378 - val_accuracy: 0.5645\n",
            "Epoch 44/300\n",
            "9/9 [==============================] - 0s 5ms/step - loss: 1.1432 - accuracy: 0.5645 - val_loss: 1.1383 - val_accuracy: 0.5645\n",
            "Epoch 45/300\n",
            "9/9 [==============================] - 0s 5ms/step - loss: 1.1522 - accuracy: 0.5645 - val_loss: 1.1502 - val_accuracy: 0.5645\n",
            "Epoch 46/300\n",
            "9/9 [==============================] - 0s 5ms/step - loss: 1.1515 - accuracy: 0.5645 - val_loss: 1.1478 - val_accuracy: 0.5645\n",
            "Epoch 47/300\n",
            "9/9 [==============================] - 0s 5ms/step - loss: 1.1450 - accuracy: 0.5645 - val_loss: 1.1410 - val_accuracy: 0.5645\n",
            "Epoch 48/300\n",
            "9/9 [==============================] - 0s 5ms/step - loss: 1.1426 - accuracy: 0.5645 - val_loss: 1.1501 - val_accuracy: 0.5645\n",
            "Epoch 49/300\n",
            "9/9 [==============================] - 0s 6ms/step - loss: 1.1485 - accuracy: 0.5645 - val_loss: 1.1480 - val_accuracy: 0.5645\n",
            "Epoch 50/300\n",
            "9/9 [==============================] - 0s 5ms/step - loss: 1.1454 - accuracy: 0.5645 - val_loss: 1.1520 - val_accuracy: 0.5645\n",
            "Epoch 51/300\n",
            "9/9 [==============================] - 0s 5ms/step - loss: 1.1507 - accuracy: 0.5645 - val_loss: 1.1503 - val_accuracy: 0.5645\n",
            "Epoch 52/300\n",
            "9/9 [==============================] - 0s 5ms/step - loss: 1.1449 - accuracy: 0.5645 - val_loss: 1.1357 - val_accuracy: 0.5645\n",
            "Epoch 53/300\n",
            "9/9 [==============================] - 0s 5ms/step - loss: 1.1342 - accuracy: 0.5645 - val_loss: 1.1318 - val_accuracy: 0.5645\n",
            "Epoch 54/300\n",
            "9/9 [==============================] - 0s 5ms/step - loss: 1.1381 - accuracy: 0.5645 - val_loss: 1.1319 - val_accuracy: 0.5645\n",
            "Epoch 55/300\n",
            "9/9 [==============================] - 0s 5ms/step - loss: 1.1370 - accuracy: 0.5645 - val_loss: 1.1300 - val_accuracy: 0.5645\n",
            "Epoch 56/300\n",
            "9/9 [==============================] - 0s 5ms/step - loss: 1.1334 - accuracy: 0.5645 - val_loss: 1.1293 - val_accuracy: 0.5645\n",
            "Epoch 57/300\n",
            "9/9 [==============================] - 0s 5ms/step - loss: 1.1310 - accuracy: 0.5645 - val_loss: 1.1237 - val_accuracy: 0.5645\n",
            "Epoch 58/300\n",
            "9/9 [==============================] - 0s 5ms/step - loss: 1.1229 - accuracy: 0.5645 - val_loss: 1.1206 - val_accuracy: 0.5645\n",
            "Epoch 59/300\n",
            "9/9 [==============================] - 0s 6ms/step - loss: 1.1258 - accuracy: 0.5645 - val_loss: 1.1220 - val_accuracy: 0.5645\n",
            "Epoch 60/300\n",
            "9/9 [==============================] - 0s 6ms/step - loss: 1.1259 - accuracy: 0.5645 - val_loss: 1.1146 - val_accuracy: 0.5645\n",
            "Epoch 61/300\n",
            "9/9 [==============================] - 0s 5ms/step - loss: 1.1193 - accuracy: 0.5645 - val_loss: 1.1191 - val_accuracy: 0.5645\n",
            "Epoch 62/300\n",
            "9/9 [==============================] - 0s 5ms/step - loss: 1.1229 - accuracy: 0.5645 - val_loss: 1.1088 - val_accuracy: 0.5645\n",
            "Epoch 63/300\n",
            "9/9 [==============================] - 0s 5ms/step - loss: 1.1159 - accuracy: 0.5645 - val_loss: 1.1024 - val_accuracy: 0.5645\n",
            "Epoch 64/300\n",
            "9/9 [==============================] - 0s 5ms/step - loss: 1.1096 - accuracy: 0.5645 - val_loss: 1.1013 - val_accuracy: 0.5645\n",
            "Epoch 65/300\n",
            "9/9 [==============================] - 0s 5ms/step - loss: 1.1167 - accuracy: 0.5645 - val_loss: 1.1047 - val_accuracy: 0.5645\n",
            "Epoch 66/300\n",
            "9/9 [==============================] - 0s 5ms/step - loss: 1.0989 - accuracy: 0.5645 - val_loss: 1.0940 - val_accuracy: 0.5645\n",
            "Epoch 67/300\n",
            "9/9 [==============================] - 0s 5ms/step - loss: 1.0986 - accuracy: 0.5645 - val_loss: 1.0917 - val_accuracy: 0.5645\n",
            "Epoch 68/300\n",
            "9/9 [==============================] - 0s 6ms/step - loss: 1.0997 - accuracy: 0.5645 - val_loss: 1.0865 - val_accuracy: 0.5645\n",
            "Epoch 69/300\n",
            "9/9 [==============================] - 0s 5ms/step - loss: 1.0986 - accuracy: 0.5645 - val_loss: 1.0899 - val_accuracy: 0.5645\n",
            "Epoch 70/300\n",
            "9/9 [==============================] - 0s 5ms/step - loss: 1.0967 - accuracy: 0.5575 - val_loss: 1.0856 - val_accuracy: 0.5645\n",
            "Epoch 71/300\n",
            "9/9 [==============================] - 0s 5ms/step - loss: 1.0981 - accuracy: 0.5854 - val_loss: 1.1039 - val_accuracy: 0.5645\n",
            "Epoch 72/300\n",
            "9/9 [==============================] - 0s 5ms/step - loss: 1.1161 - accuracy: 0.5226 - val_loss: 1.0970 - val_accuracy: 0.6063\n",
            "Epoch 73/300\n",
            "9/9 [==============================] - 0s 5ms/step - loss: 1.1025 - accuracy: 0.5889 - val_loss: 1.0853 - val_accuracy: 0.6098\n",
            "Epoch 74/300\n",
            "9/9 [==============================] - 0s 5ms/step - loss: 1.0864 - accuracy: 0.5958 - val_loss: 1.0739 - val_accuracy: 0.6202\n",
            "Epoch 75/300\n",
            "9/9 [==============================] - 0s 5ms/step - loss: 1.0902 - accuracy: 0.5923 - val_loss: 1.0802 - val_accuracy: 0.5958\n",
            "Epoch 76/300\n",
            "9/9 [==============================] - 0s 5ms/step - loss: 1.0836 - accuracy: 0.6167 - val_loss: 1.0793 - val_accuracy: 0.5819\n",
            "Epoch 77/300\n",
            "9/9 [==============================] - 0s 5ms/step - loss: 1.0886 - accuracy: 0.6098 - val_loss: 1.0777 - val_accuracy: 0.6307\n",
            "Epoch 78/300\n",
            "9/9 [==============================] - 0s 5ms/step - loss: 1.0920 - accuracy: 0.5993 - val_loss: 1.0738 - val_accuracy: 0.6237\n",
            "Epoch 79/300\n",
            "9/9 [==============================] - 0s 7ms/step - loss: 1.0832 - accuracy: 0.6098 - val_loss: 1.0699 - val_accuracy: 0.6341\n",
            "Epoch 80/300\n",
            "9/9 [==============================] - 0s 5ms/step - loss: 1.0947 - accuracy: 0.5923 - val_loss: 1.0905 - val_accuracy: 0.5819\n",
            "Epoch 81/300\n",
            "9/9 [==============================] - 0s 5ms/step - loss: 1.1105 - accuracy: 0.5889 - val_loss: 1.0876 - val_accuracy: 0.6167\n",
            "Epoch 82/300\n",
            "9/9 [==============================] - 0s 5ms/step - loss: 1.0863 - accuracy: 0.6167 - val_loss: 1.0962 - val_accuracy: 0.6202\n",
            "Epoch 83/300\n",
            "9/9 [==============================] - 0s 6ms/step - loss: 1.0949 - accuracy: 0.6167 - val_loss: 1.0742 - val_accuracy: 0.6411\n",
            "Epoch 84/300\n",
            "9/9 [==============================] - 0s 5ms/step - loss: 1.0762 - accuracy: 0.6307 - val_loss: 1.0699 - val_accuracy: 0.6376\n",
            "Epoch 85/300\n",
            "9/9 [==============================] - 0s 6ms/step - loss: 1.0773 - accuracy: 0.6272 - val_loss: 1.0608 - val_accuracy: 0.6585\n",
            "Epoch 86/300\n",
            "9/9 [==============================] - 0s 6ms/step - loss: 1.0911 - accuracy: 0.6063 - val_loss: 1.0817 - val_accuracy: 0.7003\n",
            "Epoch 87/300\n",
            "9/9 [==============================] - 0s 5ms/step - loss: 1.1122 - accuracy: 0.6202 - val_loss: 1.0881 - val_accuracy: 0.6341\n",
            "Epoch 88/300\n",
            "9/9 [==============================] - 0s 5ms/step - loss: 1.0827 - accuracy: 0.6516 - val_loss: 1.0724 - val_accuracy: 0.7108\n",
            "Epoch 89/300\n",
            "9/9 [==============================] - 0s 5ms/step - loss: 1.0721 - accuracy: 0.6551 - val_loss: 1.0635 - val_accuracy: 0.6585\n",
            "Epoch 90/300\n",
            "9/9 [==============================] - 0s 5ms/step - loss: 1.0684 - accuracy: 0.6620 - val_loss: 1.0809 - val_accuracy: 0.6725\n",
            "Epoch 91/300\n",
            "9/9 [==============================] - 0s 5ms/step - loss: 1.0990 - accuracy: 0.6585 - val_loss: 1.0617 - val_accuracy: 0.6725\n",
            "Epoch 92/300\n",
            "9/9 [==============================] - 0s 5ms/step - loss: 1.1109 - accuracy: 0.6620 - val_loss: 1.1121 - val_accuracy: 0.6341\n",
            "Epoch 93/300\n",
            "9/9 [==============================] - 0s 5ms/step - loss: 1.0986 - accuracy: 0.6690 - val_loss: 1.1273 - val_accuracy: 0.5714\n",
            "Epoch 94/300\n",
            "9/9 [==============================] - 0s 5ms/step - loss: 1.1127 - accuracy: 0.6690 - val_loss: 1.0766 - val_accuracy: 0.7491\n",
            "Epoch 95/300\n",
            "9/9 [==============================] - 0s 5ms/step - loss: 1.1057 - accuracy: 0.6655 - val_loss: 1.1313 - val_accuracy: 0.6411\n",
            "Epoch 96/300\n",
            "9/9 [==============================] - 0s 5ms/step - loss: 1.1303 - accuracy: 0.6341 - val_loss: 1.0776 - val_accuracy: 0.6620\n",
            "Epoch 97/300\n",
            "9/9 [==============================] - 0s 6ms/step - loss: 1.0771 - accuracy: 0.6690 - val_loss: 1.0595 - val_accuracy: 0.7143\n",
            "Epoch 98/300\n",
            "9/9 [==============================] - 0s 6ms/step - loss: 1.0890 - accuracy: 0.6585 - val_loss: 1.0807 - val_accuracy: 0.6864\n",
            "Epoch 99/300\n",
            "9/9 [==============================] - 0s 5ms/step - loss: 1.0906 - accuracy: 0.6655 - val_loss: 1.0538 - val_accuracy: 0.7038\n",
            "Epoch 100/300\n",
            "9/9 [==============================] - 0s 5ms/step - loss: 1.0866 - accuracy: 0.6864 - val_loss: 1.0418 - val_accuracy: 0.6969\n",
            "Epoch 101/300\n",
            "9/9 [==============================] - 0s 5ms/step - loss: 1.0658 - accuracy: 0.6760 - val_loss: 1.0625 - val_accuracy: 0.6446\n",
            "Epoch 102/300\n",
            "9/9 [==============================] - 0s 5ms/step - loss: 1.0658 - accuracy: 0.6655 - val_loss: 1.0542 - val_accuracy: 0.6655\n",
            "Epoch 103/300\n",
            "9/9 [==============================] - 0s 5ms/step - loss: 1.0659 - accuracy: 0.6655 - val_loss: 1.0341 - val_accuracy: 0.7108\n",
            "Epoch 104/300\n",
            "9/9 [==============================] - 0s 5ms/step - loss: 1.0637 - accuracy: 0.6864 - val_loss: 1.0322 - val_accuracy: 0.7178\n",
            "Epoch 105/300\n",
            "9/9 [==============================] - 0s 6ms/step - loss: 1.0700 - accuracy: 0.6760 - val_loss: 1.0723 - val_accuracy: 0.6690\n",
            "Epoch 106/300\n",
            "9/9 [==============================] - 0s 6ms/step - loss: 1.0925 - accuracy: 0.6551 - val_loss: 1.0420 - val_accuracy: 0.7108\n",
            "Epoch 107/300\n",
            "9/9 [==============================] - 0s 6ms/step - loss: 1.0549 - accuracy: 0.6969 - val_loss: 1.0427 - val_accuracy: 0.6899\n",
            "Epoch 108/300\n",
            "9/9 [==============================] - 0s 6ms/step - loss: 1.0687 - accuracy: 0.6934 - val_loss: 1.0298 - val_accuracy: 0.6969\n",
            "Epoch 109/300\n",
            "9/9 [==============================] - 0s 6ms/step - loss: 1.0659 - accuracy: 0.6725 - val_loss: 1.0106 - val_accuracy: 0.7317\n",
            "Epoch 110/300\n",
            "9/9 [==============================] - 0s 5ms/step - loss: 1.0303 - accuracy: 0.6969 - val_loss: 1.0153 - val_accuracy: 0.7178\n",
            "Epoch 111/300\n",
            "9/9 [==============================] - 0s 6ms/step - loss: 1.0417 - accuracy: 0.6794 - val_loss: 1.0327 - val_accuracy: 0.6760\n",
            "Epoch 112/300\n",
            "9/9 [==============================] - 0s 6ms/step - loss: 1.0535 - accuracy: 0.6725 - val_loss: 1.0244 - val_accuracy: 0.7213\n",
            "Epoch 113/300\n",
            "9/9 [==============================] - 0s 5ms/step - loss: 1.0501 - accuracy: 0.7108 - val_loss: 1.0270 - val_accuracy: 0.6934\n",
            "Epoch 114/300\n",
            "9/9 [==============================] - 0s 5ms/step - loss: 1.0413 - accuracy: 0.6655 - val_loss: 1.0187 - val_accuracy: 0.7143\n",
            "Epoch 115/300\n",
            "9/9 [==============================] - 0s 6ms/step - loss: 1.0215 - accuracy: 0.7247 - val_loss: 0.9977 - val_accuracy: 0.7491\n",
            "Epoch 116/300\n",
            "9/9 [==============================] - 0s 7ms/step - loss: 1.0255 - accuracy: 0.6934 - val_loss: 1.0072 - val_accuracy: 0.7003\n",
            "Epoch 117/300\n",
            "9/9 [==============================] - 0s 5ms/step - loss: 1.0425 - accuracy: 0.6829 - val_loss: 1.0252 - val_accuracy: 0.6934\n",
            "Epoch 118/300\n",
            "9/9 [==============================] - 0s 5ms/step - loss: 1.0524 - accuracy: 0.7108 - val_loss: 1.0180 - val_accuracy: 0.7143\n",
            "Epoch 119/300\n",
            "9/9 [==============================] - 0s 5ms/step - loss: 1.0331 - accuracy: 0.7317 - val_loss: 0.9986 - val_accuracy: 0.7631\n",
            "Epoch 120/300\n",
            "9/9 [==============================] - 0s 5ms/step - loss: 1.0722 - accuracy: 0.6864 - val_loss: 1.0228 - val_accuracy: 0.7143\n",
            "Epoch 121/300\n",
            "9/9 [==============================] - 0s 6ms/step - loss: 1.0623 - accuracy: 0.6969 - val_loss: 1.0024 - val_accuracy: 0.7491\n",
            "Epoch 122/300\n",
            "9/9 [==============================] - 0s 6ms/step - loss: 1.0377 - accuracy: 0.6969 - val_loss: 0.9956 - val_accuracy: 0.7422\n",
            "Epoch 123/300\n",
            "9/9 [==============================] - 0s 6ms/step - loss: 1.0126 - accuracy: 0.6969 - val_loss: 0.9881 - val_accuracy: 0.7073\n",
            "Epoch 124/300\n",
            "9/9 [==============================] - 0s 7ms/step - loss: 1.0435 - accuracy: 0.6899 - val_loss: 1.0032 - val_accuracy: 0.7178\n",
            "Epoch 125/300\n",
            "9/9 [==============================] - 0s 7ms/step - loss: 1.0341 - accuracy: 0.7213 - val_loss: 0.9991 - val_accuracy: 0.7561\n",
            "Epoch 126/300\n",
            "9/9 [==============================] - 0s 6ms/step - loss: 1.0648 - accuracy: 0.7178 - val_loss: 1.0034 - val_accuracy: 0.7422\n",
            "Epoch 127/300\n",
            "9/9 [==============================] - 0s 6ms/step - loss: 1.0372 - accuracy: 0.7038 - val_loss: 1.0213 - val_accuracy: 0.7213\n",
            "Epoch 128/300\n",
            "9/9 [==============================] - 0s 6ms/step - loss: 1.0177 - accuracy: 0.7317 - val_loss: 0.9986 - val_accuracy: 0.7282\n",
            "Epoch 129/300\n",
            "9/9 [==============================] - 0s 6ms/step - loss: 1.0118 - accuracy: 0.7247 - val_loss: 0.9820 - val_accuracy: 0.7561\n",
            "Epoch 130/300\n",
            "9/9 [==============================] - 0s 5ms/step - loss: 1.0068 - accuracy: 0.7213 - val_loss: 0.9811 - val_accuracy: 0.7317\n",
            "Epoch 131/300\n",
            "9/9 [==============================] - 0s 6ms/step - loss: 1.0314 - accuracy: 0.7108 - val_loss: 1.0743 - val_accuracy: 0.6794\n",
            "Epoch 132/300\n",
            "9/9 [==============================] - 0s 8ms/step - loss: 1.0523 - accuracy: 0.7003 - val_loss: 0.9936 - val_accuracy: 0.7282\n",
            "Epoch 133/300\n",
            "9/9 [==============================] - 0s 6ms/step - loss: 1.0338 - accuracy: 0.7178 - val_loss: 0.9905 - val_accuracy: 0.7561\n",
            "Epoch 134/300\n",
            "9/9 [==============================] - 0s 5ms/step - loss: 1.0149 - accuracy: 0.7282 - val_loss: 0.9805 - val_accuracy: 0.7631\n",
            "Epoch 135/300\n",
            "9/9 [==============================] - 0s 5ms/step - loss: 0.9988 - accuracy: 0.7491 - val_loss: 0.9720 - val_accuracy: 0.7631\n",
            "Epoch 136/300\n",
            "9/9 [==============================] - 0s 6ms/step - loss: 1.0153 - accuracy: 0.7352 - val_loss: 0.9627 - val_accuracy: 0.7700\n",
            "Epoch 137/300\n",
            "9/9 [==============================] - 0s 6ms/step - loss: 0.9934 - accuracy: 0.7456 - val_loss: 0.9570 - val_accuracy: 0.7631\n",
            "Epoch 138/300\n",
            "9/9 [==============================] - 0s 7ms/step - loss: 1.0001 - accuracy: 0.7387 - val_loss: 0.9714 - val_accuracy: 0.7422\n",
            "Epoch 139/300\n",
            "9/9 [==============================] - 0s 6ms/step - loss: 0.9765 - accuracy: 0.7631 - val_loss: 0.9740 - val_accuracy: 0.7805\n",
            "Epoch 140/300\n",
            "9/9 [==============================] - 0s 6ms/step - loss: 1.0263 - accuracy: 0.7561 - val_loss: 0.9813 - val_accuracy: 0.7735\n",
            "Epoch 141/300\n",
            "9/9 [==============================] - 0s 6ms/step - loss: 1.0497 - accuracy: 0.6899 - val_loss: 1.0100 - val_accuracy: 0.7561\n",
            "Epoch 142/300\n",
            "9/9 [==============================] - 0s 7ms/step - loss: 1.0506 - accuracy: 0.6969 - val_loss: 0.9969 - val_accuracy: 0.7387\n",
            "Epoch 143/300\n",
            "9/9 [==============================] - 0s 6ms/step - loss: 1.0344 - accuracy: 0.7317 - val_loss: 1.0028 - val_accuracy: 0.7352\n",
            "Epoch 144/300\n",
            "9/9 [==============================] - 0s 6ms/step - loss: 0.9970 - accuracy: 0.7526 - val_loss: 0.9683 - val_accuracy: 0.7596\n",
            "Epoch 145/300\n",
            "9/9 [==============================] - 0s 6ms/step - loss: 1.0152 - accuracy: 0.7213 - val_loss: 0.9743 - val_accuracy: 0.7770\n",
            "Epoch 146/300\n",
            "9/9 [==============================] - 0s 6ms/step - loss: 0.9886 - accuracy: 0.7456 - val_loss: 0.9752 - val_accuracy: 0.7387\n",
            "Epoch 147/300\n",
            "9/9 [==============================] - 0s 6ms/step - loss: 0.9926 - accuracy: 0.7491 - val_loss: 0.9795 - val_accuracy: 0.7387\n",
            "Epoch 148/300\n",
            "9/9 [==============================] - 0s 7ms/step - loss: 1.0023 - accuracy: 0.7247 - val_loss: 0.9880 - val_accuracy: 0.7282\n",
            "Epoch 149/300\n",
            "9/9 [==============================] - 0s 6ms/step - loss: 0.9696 - accuracy: 0.7456 - val_loss: 0.9470 - val_accuracy: 0.7979\n",
            "Epoch 150/300\n",
            "9/9 [==============================] - 0s 6ms/step - loss: 0.9849 - accuracy: 0.7456 - val_loss: 0.9593 - val_accuracy: 0.7631\n",
            "Epoch 151/300\n",
            "9/9 [==============================] - 0s 5ms/step - loss: 0.9919 - accuracy: 0.7561 - val_loss: 0.9507 - val_accuracy: 0.7666\n",
            "Epoch 152/300\n",
            "9/9 [==============================] - 0s 6ms/step - loss: 0.9644 - accuracy: 0.7491 - val_loss: 0.9821 - val_accuracy: 0.7317\n",
            "Epoch 153/300\n",
            "9/9 [==============================] - 0s 5ms/step - loss: 1.0309 - accuracy: 0.6829 - val_loss: 1.0277 - val_accuracy: 0.6829\n",
            "Epoch 154/300\n",
            "9/9 [==============================] - 0s 5ms/step - loss: 1.0448 - accuracy: 0.7282 - val_loss: 0.9865 - val_accuracy: 0.7631\n",
            "Epoch 155/300\n",
            "9/9 [==============================] - 0s 5ms/step - loss: 1.0319 - accuracy: 0.7387 - val_loss: 0.9845 - val_accuracy: 0.7526\n",
            "Epoch 156/300\n",
            "9/9 [==============================] - 0s 5ms/step - loss: 1.0323 - accuracy: 0.7317 - val_loss: 0.9783 - val_accuracy: 0.7491\n",
            "Epoch 157/300\n",
            "9/9 [==============================] - 0s 6ms/step - loss: 0.9977 - accuracy: 0.7456 - val_loss: 0.9518 - val_accuracy: 0.7735\n",
            "Epoch 158/300\n",
            "9/9 [==============================] - 0s 5ms/step - loss: 0.9907 - accuracy: 0.7422 - val_loss: 0.9436 - val_accuracy: 0.7875\n",
            "Epoch 159/300\n",
            "9/9 [==============================] - 0s 6ms/step - loss: 0.9755 - accuracy: 0.7526 - val_loss: 0.9578 - val_accuracy: 0.7561\n",
            "Epoch 160/300\n",
            "9/9 [==============================] - 0s 6ms/step - loss: 0.9963 - accuracy: 0.7282 - val_loss: 0.9508 - val_accuracy: 0.7840\n",
            "Epoch 161/300\n",
            "9/9 [==============================] - 0s 6ms/step - loss: 0.9909 - accuracy: 0.7317 - val_loss: 0.9705 - val_accuracy: 0.7561\n",
            "Epoch 162/300\n",
            "9/9 [==============================] - 0s 5ms/step - loss: 0.9998 - accuracy: 0.7143 - val_loss: 0.9772 - val_accuracy: 0.7666\n",
            "Epoch 163/300\n",
            "9/9 [==============================] - 0s 6ms/step - loss: 0.9893 - accuracy: 0.7456 - val_loss: 0.9483 - val_accuracy: 0.7840\n",
            "Epoch 164/300\n",
            "9/9 [==============================] - 0s 5ms/step - loss: 0.9709 - accuracy: 0.7666 - val_loss: 0.9629 - val_accuracy: 0.7247\n",
            "Epoch 165/300\n",
            "9/9 [==============================] - 0s 6ms/step - loss: 0.9739 - accuracy: 0.7178 - val_loss: 0.9316 - val_accuracy: 0.7909\n",
            "Epoch 166/300\n",
            "9/9 [==============================] - 0s 7ms/step - loss: 0.9701 - accuracy: 0.7596 - val_loss: 0.9423 - val_accuracy: 0.7770\n",
            "Epoch 167/300\n",
            "9/9 [==============================] - 0s 6ms/step - loss: 1.0146 - accuracy: 0.7073 - val_loss: 0.9531 - val_accuracy: 0.7561\n",
            "Epoch 168/300\n",
            "9/9 [==============================] - 0s 5ms/step - loss: 0.9760 - accuracy: 0.7422 - val_loss: 0.9549 - val_accuracy: 0.7700\n",
            "Epoch 169/300\n",
            "9/9 [==============================] - 0s 5ms/step - loss: 0.9907 - accuracy: 0.7352 - val_loss: 0.9418 - val_accuracy: 0.7875\n",
            "Epoch 170/300\n",
            "9/9 [==============================] - 0s 6ms/step - loss: 0.9918 - accuracy: 0.7491 - val_loss: 0.9430 - val_accuracy: 0.7909\n",
            "Epoch 171/300\n",
            "9/9 [==============================] - 0s 5ms/step - loss: 0.9516 - accuracy: 0.7666 - val_loss: 0.9391 - val_accuracy: 0.7840\n",
            "Epoch 172/300\n",
            "9/9 [==============================] - 0s 5ms/step - loss: 0.9699 - accuracy: 0.7317 - val_loss: 0.9320 - val_accuracy: 0.7770\n",
            "Epoch 173/300\n",
            "9/9 [==============================] - 0s 5ms/step - loss: 0.9898 - accuracy: 0.7526 - val_loss: 0.9630 - val_accuracy: 0.7561\n",
            "Epoch 174/300\n",
            "9/9 [==============================] - 0s 5ms/step - loss: 1.0063 - accuracy: 0.7282 - val_loss: 0.9786 - val_accuracy: 0.7666\n",
            "Epoch 175/300\n",
            "9/9 [==============================] - 0s 5ms/step - loss: 0.9944 - accuracy: 0.7422 - val_loss: 0.9741 - val_accuracy: 0.7526\n",
            "Epoch 176/300\n",
            "9/9 [==============================] - 0s 5ms/step - loss: 0.9896 - accuracy: 0.7491 - val_loss: 0.9495 - val_accuracy: 0.7840\n",
            "Epoch 177/300\n",
            "9/9 [==============================] - 0s 5ms/step - loss: 0.9697 - accuracy: 0.7456 - val_loss: 0.9423 - val_accuracy: 0.7770\n",
            "Epoch 178/300\n",
            "9/9 [==============================] - 0s 5ms/step - loss: 0.9391 - accuracy: 0.7944 - val_loss: 0.9320 - val_accuracy: 0.7805\n",
            "Epoch 179/300\n",
            "9/9 [==============================] - 0s 5ms/step - loss: 0.9781 - accuracy: 0.7456 - val_loss: 0.9385 - val_accuracy: 0.7770\n",
            "Epoch 180/300\n",
            "9/9 [==============================] - 0s 6ms/step - loss: 0.9566 - accuracy: 0.7456 - val_loss: 0.9451 - val_accuracy: 0.7596\n",
            "Epoch 181/300\n",
            "9/9 [==============================] - 0s 5ms/step - loss: 1.0076 - accuracy: 0.7317 - val_loss: 0.9425 - val_accuracy: 0.7909\n",
            "Epoch 182/300\n",
            "9/9 [==============================] - 0s 5ms/step - loss: 0.9681 - accuracy: 0.7561 - val_loss: 0.9242 - val_accuracy: 0.8049\n",
            "Epoch 183/300\n",
            "9/9 [==============================] - 0s 7ms/step - loss: 0.9694 - accuracy: 0.7422 - val_loss: 0.9231 - val_accuracy: 0.8049\n",
            "Epoch 184/300\n",
            "9/9 [==============================] - 0s 6ms/step - loss: 0.9598 - accuracy: 0.7561 - val_loss: 0.9266 - val_accuracy: 0.8014\n",
            "Epoch 185/300\n",
            "9/9 [==============================] - 0s 5ms/step - loss: 0.9610 - accuracy: 0.7666 - val_loss: 0.9279 - val_accuracy: 0.7944\n",
            "Epoch 186/300\n",
            "9/9 [==============================] - 0s 6ms/step - loss: 0.9591 - accuracy: 0.7526 - val_loss: 0.9188 - val_accuracy: 0.7979\n",
            "Epoch 187/300\n",
            "9/9 [==============================] - 0s 5ms/step - loss: 0.9632 - accuracy: 0.7875 - val_loss: 0.9376 - val_accuracy: 0.7735\n",
            "Epoch 188/300\n",
            "9/9 [==============================] - 0s 5ms/step - loss: 0.9781 - accuracy: 0.7352 - val_loss: 0.9230 - val_accuracy: 0.7875\n",
            "Epoch 189/300\n",
            "9/9 [==============================] - 0s 6ms/step - loss: 0.9459 - accuracy: 0.7770 - val_loss: 0.9205 - val_accuracy: 0.7979\n",
            "Epoch 190/300\n",
            "9/9 [==============================] - 0s 5ms/step - loss: 0.9498 - accuracy: 0.7770 - val_loss: 0.9211 - val_accuracy: 0.7875\n",
            "Epoch 191/300\n",
            "9/9 [==============================] - 0s 5ms/step - loss: 0.9488 - accuracy: 0.7805 - val_loss: 0.9188 - val_accuracy: 0.7979\n",
            "Epoch 192/300\n",
            "9/9 [==============================] - 0s 5ms/step - loss: 0.9576 - accuracy: 0.7526 - val_loss: 0.9083 - val_accuracy: 0.7875\n",
            "Epoch 193/300\n",
            "9/9 [==============================] - 0s 5ms/step - loss: 0.9530 - accuracy: 0.7491 - val_loss: 0.9088 - val_accuracy: 0.8118\n",
            "Epoch 194/300\n",
            "9/9 [==============================] - 0s 5ms/step - loss: 0.9522 - accuracy: 0.7561 - val_loss: 0.9293 - val_accuracy: 0.7631\n",
            "Epoch 195/300\n",
            "9/9 [==============================] - 0s 5ms/step - loss: 0.9835 - accuracy: 0.7317 - val_loss: 0.9472 - val_accuracy: 0.7735\n",
            "Epoch 196/300\n",
            "9/9 [==============================] - 0s 5ms/step - loss: 0.9947 - accuracy: 0.7422 - val_loss: 0.9683 - val_accuracy: 0.7247\n",
            "Epoch 197/300\n",
            "9/9 [==============================] - 0s 5ms/step - loss: 0.9891 - accuracy: 0.7317 - val_loss: 0.9472 - val_accuracy: 0.7666\n",
            "Epoch 198/300\n",
            "9/9 [==============================] - 0s 5ms/step - loss: 0.9436 - accuracy: 0.7979 - val_loss: 0.9155 - val_accuracy: 0.7979\n",
            "Epoch 199/300\n",
            "9/9 [==============================] - 0s 6ms/step - loss: 0.9737 - accuracy: 0.7213 - val_loss: 0.9512 - val_accuracy: 0.7631\n",
            "Epoch 200/300\n",
            "9/9 [==============================] - 0s 5ms/step - loss: 0.9695 - accuracy: 0.7282 - val_loss: 0.9247 - val_accuracy: 0.7979\n",
            "Epoch 201/300\n",
            "9/9 [==============================] - 0s 5ms/step - loss: 0.9552 - accuracy: 0.7491 - val_loss: 0.9017 - val_accuracy: 0.8118\n",
            "Epoch 202/300\n",
            "9/9 [==============================] - 0s 6ms/step - loss: 0.9366 - accuracy: 0.7770 - val_loss: 0.9345 - val_accuracy: 0.7700\n",
            "Epoch 203/300\n",
            "9/9 [==============================] - 0s 6ms/step - loss: 0.9638 - accuracy: 0.7631 - val_loss: 0.9384 - val_accuracy: 0.7770\n",
            "Epoch 204/300\n",
            "9/9 [==============================] - 0s 5ms/step - loss: 0.9887 - accuracy: 0.7213 - val_loss: 0.9284 - val_accuracy: 0.7909\n",
            "Epoch 205/300\n",
            "9/9 [==============================] - 0s 5ms/step - loss: 0.9653 - accuracy: 0.7456 - val_loss: 0.9527 - val_accuracy: 0.7561\n",
            "Epoch 206/300\n",
            "9/9 [==============================] - 0s 6ms/step - loss: 0.9904 - accuracy: 0.7387 - val_loss: 0.9294 - val_accuracy: 0.8084\n",
            "Epoch 207/300\n",
            "9/9 [==============================] - 0s 5ms/step - loss: 0.9478 - accuracy: 0.7700 - val_loss: 0.9318 - val_accuracy: 0.7491\n",
            "Epoch 208/300\n",
            "9/9 [==============================] - 0s 5ms/step - loss: 0.9405 - accuracy: 0.7735 - val_loss: 0.9062 - val_accuracy: 0.7979\n",
            "Epoch 209/300\n",
            "9/9 [==============================] - 0s 5ms/step - loss: 0.9594 - accuracy: 0.7561 - val_loss: 0.9066 - val_accuracy: 0.7875\n",
            "Epoch 210/300\n",
            "9/9 [==============================] - 0s 6ms/step - loss: 0.9436 - accuracy: 0.7631 - val_loss: 0.9202 - val_accuracy: 0.7944\n",
            "Epoch 211/300\n",
            "9/9 [==============================] - 0s 5ms/step - loss: 0.9898 - accuracy: 0.7352 - val_loss: 0.9593 - val_accuracy: 0.7561\n",
            "Epoch 212/300\n",
            "9/9 [==============================] - 0s 5ms/step - loss: 1.0101 - accuracy: 0.7213 - val_loss: 0.9461 - val_accuracy: 0.7666\n",
            "Epoch 213/300\n",
            "9/9 [==============================] - 0s 5ms/step - loss: 0.9608 - accuracy: 0.7526 - val_loss: 0.9192 - val_accuracy: 0.8049\n",
            "Epoch 214/300\n",
            "9/9 [==============================] - 0s 5ms/step - loss: 0.9262 - accuracy: 0.7840 - val_loss: 0.9133 - val_accuracy: 0.7875\n",
            "Epoch 215/300\n",
            "9/9 [==============================] - 0s 6ms/step - loss: 0.9478 - accuracy: 0.7666 - val_loss: 0.8920 - val_accuracy: 0.8049\n",
            "Epoch 216/300\n",
            "9/9 [==============================] - 0s 5ms/step - loss: 0.9231 - accuracy: 0.7770 - val_loss: 0.9021 - val_accuracy: 0.8118\n",
            "Epoch 217/300\n",
            "9/9 [==============================] - 0s 5ms/step - loss: 0.9543 - accuracy: 0.7700 - val_loss: 0.9128 - val_accuracy: 0.7875\n",
            "Epoch 218/300\n",
            "9/9 [==============================] - 0s 5ms/step - loss: 0.9402 - accuracy: 0.7631 - val_loss: 0.9341 - val_accuracy: 0.7700\n",
            "Epoch 219/300\n",
            "9/9 [==============================] - 0s 5ms/step - loss: 0.9608 - accuracy: 0.7352 - val_loss: 0.9269 - val_accuracy: 0.8084\n",
            "Epoch 220/300\n",
            "9/9 [==============================] - 0s 5ms/step - loss: 0.9745 - accuracy: 0.7491 - val_loss: 0.9180 - val_accuracy: 0.7944\n",
            "Epoch 221/300\n",
            "9/9 [==============================] - 0s 5ms/step - loss: 0.9334 - accuracy: 0.7840 - val_loss: 0.8992 - val_accuracy: 0.8049\n",
            "Epoch 222/300\n",
            "9/9 [==============================] - 0s 6ms/step - loss: 0.9307 - accuracy: 0.7735 - val_loss: 0.8983 - val_accuracy: 0.8014\n",
            "Epoch 223/300\n",
            "9/9 [==============================] - 0s 5ms/step - loss: 0.9243 - accuracy: 0.7735 - val_loss: 0.8922 - val_accuracy: 0.8049\n",
            "Epoch 224/300\n",
            "9/9 [==============================] - 0s 5ms/step - loss: 0.9319 - accuracy: 0.7491 - val_loss: 0.9301 - val_accuracy: 0.7596\n",
            "Epoch 225/300\n",
            "9/9 [==============================] - 0s 6ms/step - loss: 0.9634 - accuracy: 0.7596 - val_loss: 0.9123 - val_accuracy: 0.7979\n",
            "Epoch 226/300\n",
            "9/9 [==============================] - 0s 5ms/step - loss: 0.9085 - accuracy: 0.7875 - val_loss: 0.9131 - val_accuracy: 0.7770\n",
            "Epoch 227/300\n",
            "9/9 [==============================] - 0s 5ms/step - loss: 0.9426 - accuracy: 0.7735 - val_loss: 0.8869 - val_accuracy: 0.8049\n",
            "Epoch 228/300\n",
            "9/9 [==============================] - 0s 5ms/step - loss: 0.9234 - accuracy: 0.7875 - val_loss: 0.8984 - val_accuracy: 0.7944\n",
            "Epoch 229/300\n",
            "9/9 [==============================] - 0s 5ms/step - loss: 0.9595 - accuracy: 0.7491 - val_loss: 0.9069 - val_accuracy: 0.7979\n",
            "Epoch 230/300\n",
            "9/9 [==============================] - 0s 5ms/step - loss: 0.9639 - accuracy: 0.7561 - val_loss: 0.9136 - val_accuracy: 0.8084\n",
            "Epoch 231/300\n",
            "9/9 [==============================] - 0s 5ms/step - loss: 0.9518 - accuracy: 0.7735 - val_loss: 0.9132 - val_accuracy: 0.8049\n",
            "Epoch 232/300\n",
            "9/9 [==============================] - 0s 5ms/step - loss: 0.9521 - accuracy: 0.7700 - val_loss: 0.9238 - val_accuracy: 0.7770\n",
            "Epoch 233/300\n",
            "9/9 [==============================] - 0s 5ms/step - loss: 0.9598 - accuracy: 0.7735 - val_loss: 0.9122 - val_accuracy: 0.7909\n",
            "Epoch 234/300\n",
            "9/9 [==============================] - 0s 6ms/step - loss: 0.9302 - accuracy: 0.7666 - val_loss: 0.9010 - val_accuracy: 0.8153\n",
            "Epoch 235/300\n",
            "9/9 [==============================] - 0s 5ms/step - loss: 0.9787 - accuracy: 0.7526 - val_loss: 0.9201 - val_accuracy: 0.8014\n",
            "Epoch 236/300\n",
            "9/9 [==============================] - 0s 5ms/step - loss: 0.9820 - accuracy: 0.7387 - val_loss: 0.9014 - val_accuracy: 0.8153\n",
            "Epoch 237/300\n",
            "9/9 [==============================] - 0s 5ms/step - loss: 0.9264 - accuracy: 0.7875 - val_loss: 0.8911 - val_accuracy: 0.8118\n",
            "Epoch 238/300\n",
            "9/9 [==============================] - 0s 5ms/step - loss: 0.9819 - accuracy: 0.7247 - val_loss: 0.9054 - val_accuracy: 0.8014\n",
            "Epoch 239/300\n",
            "9/9 [==============================] - 0s 6ms/step - loss: 0.9304 - accuracy: 0.7979 - val_loss: 0.8975 - val_accuracy: 0.8118\n",
            "Epoch 240/300\n",
            "9/9 [==============================] - 0s 6ms/step - loss: 0.9396 - accuracy: 0.7700 - val_loss: 0.8924 - val_accuracy: 0.8084\n",
            "Epoch 241/300\n",
            "9/9 [==============================] - 0s 6ms/step - loss: 0.9326 - accuracy: 0.7596 - val_loss: 0.8803 - val_accuracy: 0.8118\n",
            "Epoch 242/300\n",
            "9/9 [==============================] - 0s 5ms/step - loss: 0.9153 - accuracy: 0.7770 - val_loss: 0.8918 - val_accuracy: 0.8084\n",
            "Epoch 243/300\n",
            "9/9 [==============================] - 0s 5ms/step - loss: 0.9286 - accuracy: 0.7526 - val_loss: 0.9195 - val_accuracy: 0.7666\n",
            "Epoch 244/300\n",
            "9/9 [==============================] - 0s 5ms/step - loss: 0.9397 - accuracy: 0.7735 - val_loss: 0.8935 - val_accuracy: 0.8014\n",
            "Epoch 245/300\n",
            "9/9 [==============================] - 0s 5ms/step - loss: 0.9085 - accuracy: 0.7805 - val_loss: 0.8875 - val_accuracy: 0.8014\n",
            "Epoch 246/300\n",
            "9/9 [==============================] - 0s 5ms/step - loss: 0.9242 - accuracy: 0.7840 - val_loss: 0.8795 - val_accuracy: 0.8293\n",
            "Epoch 247/300\n",
            "9/9 [==============================] - 0s 5ms/step - loss: 0.9271 - accuracy: 0.7805 - val_loss: 0.8852 - val_accuracy: 0.8084\n",
            "Epoch 248/300\n",
            "9/9 [==============================] - 0s 5ms/step - loss: 0.9281 - accuracy: 0.7666 - val_loss: 0.8845 - val_accuracy: 0.8118\n",
            "Epoch 249/300\n",
            "9/9 [==============================] - 0s 5ms/step - loss: 0.9295 - accuracy: 0.7666 - val_loss: 0.8828 - val_accuracy: 0.8118\n",
            "Epoch 250/300\n",
            "9/9 [==============================] - 0s 5ms/step - loss: 0.9063 - accuracy: 0.8084 - val_loss: 0.8846 - val_accuracy: 0.8118\n",
            "Epoch 251/300\n",
            "9/9 [==============================] - 0s 5ms/step - loss: 0.9247 - accuracy: 0.7979 - val_loss: 0.8955 - val_accuracy: 0.8084\n",
            "Epoch 252/300\n",
            "9/9 [==============================] - 0s 5ms/step - loss: 0.9390 - accuracy: 0.7456 - val_loss: 0.8869 - val_accuracy: 0.8153\n",
            "Epoch 253/300\n",
            "9/9 [==============================] - 0s 5ms/step - loss: 0.9289 - accuracy: 0.7666 - val_loss: 0.8853 - val_accuracy: 0.8188\n",
            "Epoch 254/300\n",
            "9/9 [==============================] - 0s 5ms/step - loss: 0.9177 - accuracy: 0.8049 - val_loss: 0.8909 - val_accuracy: 0.8188\n",
            "Epoch 255/300\n",
            "9/9 [==============================] - 0s 5ms/step - loss: 0.9512 - accuracy: 0.7352 - val_loss: 0.9100 - val_accuracy: 0.7840\n",
            "Epoch 256/300\n",
            "9/9 [==============================] - 0s 5ms/step - loss: 0.9466 - accuracy: 0.7596 - val_loss: 0.9069 - val_accuracy: 0.7840\n",
            "Epoch 257/300\n",
            "9/9 [==============================] - 0s 6ms/step - loss: 0.9587 - accuracy: 0.7596 - val_loss: 0.9043 - val_accuracy: 0.8118\n",
            "Epoch 258/300\n",
            "9/9 [==============================] - 0s 6ms/step - loss: 0.9276 - accuracy: 0.7944 - val_loss: 0.9172 - val_accuracy: 0.7631\n",
            "Epoch 259/300\n",
            "9/9 [==============================] - 0s 6ms/step - loss: 0.9402 - accuracy: 0.7526 - val_loss: 0.8864 - val_accuracy: 0.8258\n",
            "Epoch 260/300\n",
            "9/9 [==============================] - 0s 5ms/step - loss: 0.9232 - accuracy: 0.7840 - val_loss: 0.8829 - val_accuracy: 0.8153\n",
            "Epoch 261/300\n",
            "9/9 [==============================] - 0s 5ms/step - loss: 0.9099 - accuracy: 0.7909 - val_loss: 0.8793 - val_accuracy: 0.8049\n",
            "Epoch 262/300\n",
            "9/9 [==============================] - 0s 5ms/step - loss: 0.9430 - accuracy: 0.7561 - val_loss: 0.9119 - val_accuracy: 0.7735\n",
            "Epoch 263/300\n",
            "9/9 [==============================] - 0s 5ms/step - loss: 0.9357 - accuracy: 0.7526 - val_loss: 0.8757 - val_accuracy: 0.8223\n",
            "Epoch 264/300\n",
            "9/9 [==============================] - 0s 5ms/step - loss: 0.9011 - accuracy: 0.8049 - val_loss: 0.8755 - val_accuracy: 0.8188\n",
            "Epoch 265/300\n",
            "9/9 [==============================] - 0s 5ms/step - loss: 0.9218 - accuracy: 0.7944 - val_loss: 0.8728 - val_accuracy: 0.8084\n",
            "Epoch 266/300\n",
            "9/9 [==============================] - 0s 5ms/step - loss: 0.8939 - accuracy: 0.7875 - val_loss: 0.8668 - val_accuracy: 0.8293\n",
            "Epoch 267/300\n",
            "9/9 [==============================] - 0s 5ms/step - loss: 0.9339 - accuracy: 0.7526 - val_loss: 0.8737 - val_accuracy: 0.8014\n",
            "Epoch 268/300\n",
            "9/9 [==============================] - 0s 5ms/step - loss: 0.9142 - accuracy: 0.7875 - val_loss: 0.8723 - val_accuracy: 0.8258\n",
            "Epoch 269/300\n",
            "9/9 [==============================] - 0s 5ms/step - loss: 0.9282 - accuracy: 0.7909 - val_loss: 0.8856 - val_accuracy: 0.8118\n",
            "Epoch 270/300\n",
            "9/9 [==============================] - 0s 5ms/step - loss: 0.9064 - accuracy: 0.8014 - val_loss: 0.9015 - val_accuracy: 0.7909\n",
            "Epoch 271/300\n",
            "9/9 [==============================] - 0s 5ms/step - loss: 0.9314 - accuracy: 0.7596 - val_loss: 0.8839 - val_accuracy: 0.8014\n",
            "Epoch 272/300\n",
            "9/9 [==============================] - 0s 5ms/step - loss: 0.9387 - accuracy: 0.7666 - val_loss: 0.9001 - val_accuracy: 0.8188\n",
            "Epoch 273/300\n",
            "9/9 [==============================] - 0s 5ms/step - loss: 0.9513 - accuracy: 0.7909 - val_loss: 0.9416 - val_accuracy: 0.7735\n",
            "Epoch 274/300\n",
            "9/9 [==============================] - 0s 6ms/step - loss: 0.9438 - accuracy: 0.7666 - val_loss: 0.9479 - val_accuracy: 0.7735\n",
            "Epoch 275/300\n",
            "9/9 [==============================] - 0s 5ms/step - loss: 0.9344 - accuracy: 0.7944 - val_loss: 0.8968 - val_accuracy: 0.8118\n",
            "Epoch 276/300\n",
            "9/9 [==============================] - 0s 6ms/step - loss: 0.9242 - accuracy: 0.7735 - val_loss: 0.8759 - val_accuracy: 0.8153\n",
            "Epoch 277/300\n",
            "9/9 [==============================] - 0s 5ms/step - loss: 0.9164 - accuracy: 0.7666 - val_loss: 0.8635 - val_accuracy: 0.8362\n",
            "Epoch 278/300\n",
            "9/9 [==============================] - 0s 7ms/step - loss: 0.9165 - accuracy: 0.7700 - val_loss: 0.9016 - val_accuracy: 0.7875\n",
            "Epoch 279/300\n",
            "9/9 [==============================] - 0s 6ms/step - loss: 0.9270 - accuracy: 0.7735 - val_loss: 0.8985 - val_accuracy: 0.7909\n",
            "Epoch 280/300\n",
            "9/9 [==============================] - 0s 6ms/step - loss: 0.9008 - accuracy: 0.7909 - val_loss: 0.8734 - val_accuracy: 0.8049\n",
            "Epoch 281/300\n",
            "9/9 [==============================] - 0s 6ms/step - loss: 0.9107 - accuracy: 0.7840 - val_loss: 0.8646 - val_accuracy: 0.8153\n",
            "Epoch 282/300\n",
            "9/9 [==============================] - 0s 7ms/step - loss: 0.9539 - accuracy: 0.7770 - val_loss: 0.8722 - val_accuracy: 0.8118\n",
            "Epoch 283/300\n",
            "9/9 [==============================] - 0s 7ms/step - loss: 0.9021 - accuracy: 0.7979 - val_loss: 0.8981 - val_accuracy: 0.7770\n",
            "Epoch 284/300\n",
            "9/9 [==============================] - 0s 6ms/step - loss: 0.9194 - accuracy: 0.7979 - val_loss: 0.8854 - val_accuracy: 0.8188\n",
            "Epoch 285/300\n",
            "9/9 [==============================] - 0s 6ms/step - loss: 0.8910 - accuracy: 0.8014 - val_loss: 0.8678 - val_accuracy: 0.7979\n",
            "Epoch 286/300\n",
            "9/9 [==============================] - 0s 7ms/step - loss: 0.9115 - accuracy: 0.7805 - val_loss: 0.8944 - val_accuracy: 0.8014\n",
            "Epoch 287/300\n",
            "9/9 [==============================] - 0s 6ms/step - loss: 0.9173 - accuracy: 0.7700 - val_loss: 0.8768 - val_accuracy: 0.8153\n",
            "Epoch 288/300\n",
            "9/9 [==============================] - 0s 6ms/step - loss: 0.9025 - accuracy: 0.7491 - val_loss: 0.8731 - val_accuracy: 0.8293\n",
            "Epoch 289/300\n",
            "9/9 [==============================] - 0s 6ms/step - loss: 0.9137 - accuracy: 0.7805 - val_loss: 0.8645 - val_accuracy: 0.8223\n",
            "Epoch 290/300\n",
            "9/9 [==============================] - 0s 6ms/step - loss: 0.9484 - accuracy: 0.7770 - val_loss: 0.9367 - val_accuracy: 0.7735\n",
            "Epoch 291/300\n",
            "9/9 [==============================] - 0s 6ms/step - loss: 0.9981 - accuracy: 0.7247 - val_loss: 0.8858 - val_accuracy: 0.7979\n",
            "Epoch 292/300\n",
            "9/9 [==============================] - 0s 7ms/step - loss: 0.9230 - accuracy: 0.7631 - val_loss: 0.8772 - val_accuracy: 0.7979\n",
            "Epoch 293/300\n",
            "9/9 [==============================] - 0s 7ms/step - loss: 0.9025 - accuracy: 0.8153 - val_loss: 0.8687 - val_accuracy: 0.8258\n",
            "Epoch 294/300\n",
            "9/9 [==============================] - 0s 6ms/step - loss: 0.8988 - accuracy: 0.7979 - val_loss: 0.8747 - val_accuracy: 0.8084\n",
            "Epoch 295/300\n",
            "9/9 [==============================] - 0s 6ms/step - loss: 0.9062 - accuracy: 0.7631 - val_loss: 0.8627 - val_accuracy: 0.8049\n",
            "Epoch 296/300\n",
            "9/9 [==============================] - 0s 7ms/step - loss: 0.9002 - accuracy: 0.7909 - val_loss: 0.8611 - val_accuracy: 0.8188\n",
            "Epoch 297/300\n",
            "9/9 [==============================] - 0s 8ms/step - loss: 0.8928 - accuracy: 0.7666 - val_loss: 0.8652 - val_accuracy: 0.8223\n",
            "Epoch 298/300\n",
            "9/9 [==============================] - 0s 6ms/step - loss: 0.8993 - accuracy: 0.7909 - val_loss: 0.8718 - val_accuracy: 0.8153\n",
            "Epoch 299/300\n",
            "9/9 [==============================] - 0s 6ms/step - loss: 0.9226 - accuracy: 0.7770 - val_loss: 0.8706 - val_accuracy: 0.8258\n",
            "Epoch 300/300\n",
            "9/9 [==============================] - 0s 7ms/step - loss: 0.9263 - accuracy: 0.7700 - val_loss: 0.8820 - val_accuracy: 0.8153\n",
            "dict_keys(['loss', 'accuracy', 'val_loss', 'val_accuracy'])\n"
          ],
          "name": "stdout"
        }
      ]
    },
    {
      "cell_type": "code",
      "metadata": {
        "id": "ZASc-Qg3vYgn",
        "colab_type": "code",
        "colab": {
          "base_uri": "https://localhost:8080/",
          "height": 295
        },
        "outputId": "98b49c43-ec2b-4b15-bcd2-5f6eb4cee6bd"
      },
      "source": [
        "# summarize history for accuracy\n",
        "plt.plot(history.history['accuracy'])\n",
        "plt.plot(history.history['val_accuracy'])\n",
        "plt.title('model accuracy')\n",
        "plt.ylabel('accuracy')\n",
        "plt.xlabel('epoch')\n",
        "plt.legend(['train', 'test'], loc='upper left')\n",
        "plt.show()"
      ],
      "execution_count": 89,
      "outputs": [
        {
          "output_type": "display_data",
          "data": {
            "image/png": "[encoded data removed]",
            "text/plain": [
              "<Figure size 432x288 with 1 Axes>"
            ]
          },
          "metadata": {
            "tags": [],
            "needs_background": "light"
          }
        }
      ]
    },
    {
      "cell_type": "code",
      "metadata": {
        "id": "TbaHIlRovYsv",
        "colab_type": "code",
        "colab": {
          "base_uri": "https://localhost:8080/",
          "height": 295
        },
        "outputId": "d16dff83-6326-40b6-a927-1702e5b1987d"
      },
      "source": [
        "# summarize history for loss\n",
        "plt.plot(history.history['loss'])\n",
        "plt.plot(history.history['val_loss'])\n",
        "plt.title('model loss')\n",
        "plt.ylabel('loss')\n",
        "plt.xlabel('epoch')\n",
        "plt.legend(['train', 'test'], loc='upper left')\n",
        "plt.show()"
      ],
      "execution_count": 91,
      "outputs": [
        {
          "output_type": "display_data",
          "data": {
            "image/png": "[encoded data removed]",
            "text/plain": [
              "<Figure size 432x288 with 1 Axes>"
            ]
          },
          "metadata": {
            "tags": [],
            "needs_background": "light"
          }
        }
      ]
    },
    {
      "cell_type": "code",
      "metadata": {
        "id": "xpIP2OhNlNqC",
        "colab_type": "code",
        "colab": {
          "base_uri": "https://localhost:8080/",
          "height": 86
        },
        "outputId": "d508a3b9-5a78-4a32-d006-affc6a635ec9"
      },
      "source": [
        "print(f\"Validation Accuracy : {np.mean(history.history['val_accuracy'])}\")\n",
        "print(f\"Training Accuracy : {np.mean(history.history['accuracy'])}\")\n",
        "print(f\"Validation Loss : {np.mean(history.history['val_loss'])}\")\n",
        "print(f\"Validation Loss : {np.mean(history.history['loss'])}\")"
      ],
      "execution_count": 92,
      "outputs": [
        {
          "output_type": "stream",
          "text": [
            "Validation Accuracy : 0.7138792061805725\n",
            "Training Accuracy : 0.6936469217141469\n",
            "Validation Loss : 2.2564922833442687\n",
            "Validation Loss : 2.5137545130650203\n"
          ],
          "name": "stdout"
        }
      ]
    },
    {
      "cell_type": "code",
      "metadata": {
        "id": "lzzaUzoOgWZ4",
        "colab_type": "code",
        "colab": {}
      },
      "source": [
        "from keras.models import model_from_json\n",
        "import os"
      ],
      "execution_count": 93,
      "outputs": []
    },
    {
      "cell_type": "code",
      "metadata": {
        "id": "dMrcVo0pgWlD",
        "colab_type": "code",
        "colab": {}
      },
      "source": [
        "model_json = model.to_json()\n",
        "with open(\"model.json\", \"w\") as json_file:\n",
        "    json_file.write(model_json)\n",
        "model.save_weights(\"model.h5\")"
      ],
      "execution_count": 94,
      "outputs": []
    },
    {
      "cell_type": "code",
      "metadata": {
        "id": "XTEj4MLqfTdf",
        "colab_type": "code",
        "colab": {}
      },
      "source": [
        "json_file = open('model.json', 'r')\n",
        "loaded_model_json = json_file.read()\n",
        "json_file.close()\n",
        "model = model_from_json(loaded_model_json)\n",
        "\n",
        "model.load_weights(\"model.h5\")"
      ],
      "execution_count": 95,
      "outputs": []
    },
    {
      "cell_type": "code",
      "metadata": {
        "id": "PH3-BSCALs4Z",
        "colab_type": "code",
        "colab": {
          "base_uri": "https://localhost:8080/",
          "height": 416
        },
        "outputId": "48c03a46-53d1-417c-c9f5-45d50b40f72b"
      },
      "source": [
        "print(model.summary())"
      ],
      "execution_count": 96,
      "outputs": [
        {
          "output_type": "stream",
          "text": [
            "Model: \"sequential_3\"\n",
            "_________________________________________________________________\n",
            "Layer (type)                 Output Shape              Param #   \n",
            "=================================================================\n",
            "dense_18 (Dense)             (None, 860)               13760     \n",
            "_________________________________________________________________\n",
            "dense_19 (Dense)             (None, 430)               370230    \n",
            "_________________________________________________________________\n",
            "dropout_3 (Dropout)          (None, 430)               0         \n",
            "_________________________________________________________________\n",
            "dense_20 (Dense)             (None, 215)               92665     \n",
            "_________________________________________________________________\n",
            "dense_21 (Dense)             (None, 54)                11664     \n",
            "_________________________________________________________________\n",
            "dense_22 (Dense)             (None, 9)                 495       \n",
            "_________________________________________________________________\n",
            "dense_23 (Dense)             (None, 1)                 10        \n",
            "=================================================================\n",
            "Total params: 488,824\n",
            "Trainable params: 488,824\n",
            "Non-trainable params: 0\n",
            "_________________________________________________________________\n",
            "None\n"
          ],
          "name": "stdout"
        }
      ]
    },
    {
      "cell_type": "code",
      "metadata": {
        "id": "hxU4pqv7L1km",
        "colab_type": "code",
        "colab": {
          "base_uri": "https://localhost:8080/",
          "height": 865
        },
        "outputId": "43a5888c-438d-4d67-ef5f-a5e1f77b3174"
      },
      "source": [
        "tf.keras.utils.plot_model(model, to_file='model.png', show_shapes=True, show_layer_names=True)"
      ],
      "execution_count": 97,
      "outputs": [
        {
          "output_type": "execute_result",
          "data": {
            "image/png": "[encoded data removed]",
            "text/plain": [
              "<IPython.core.display.Image object>"
            ]
          },
          "metadata": {
            "tags": []
          },
          "execution_count": 97
        }
      ]
    }
  ]
}